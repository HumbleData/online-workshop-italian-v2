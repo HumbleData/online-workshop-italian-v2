{
 "cells": [
  {
   "metadata": {},
   "cell_type": "markdown",
   "source": [
    "<div class=\"alert alert-block alert-info\" style=\"background-color: #301E40; border: 0px; -moz-border-radius: 10px; -webkit-border-radius: 10px;\">\n",
    "<br/><br/>\n",
    "<h1 style=\"font-size: 45px; color: white; align: center;\"><center>\n",
    "<img src=\"https://raw.githubusercontent.com/HumbleData/beginners-data-workshop/master/media/humble-data-logo-white-transparent.png\" width=\"250px\" /><br/><br/>\n",
    "Visualizzazione dei dati con matplotlib\n",
    "</center></h1>\n",
    "</div>"
   ],
   "id": "ee35b5f1cb40821b"
  },
  {
   "metadata": {},
   "cell_type": "markdown",
   "source": [
    "<div class=\"alert alert-block alert-warning\" style=\"padding: 0px; padding-left: 20px; padding-top: 5px;\"><h2 style=\"color: #301E40\">\n",
    "Importa pyplot (e pandas) in matplotlib\n",
    "</h2><br>\n",
    "</div>\n",
    "\n",
    "Facendo riferimento alla [documentazione\n",
    "ufficiale](https://matplotlib.org/gallery/index.html) (si riporta di\n",
    "seguito una versione tradotta dall'inglese):\n",
    "\n",
    "`matplotlib.pyplot` è una raccolta di funzioni in stile riga di comando\n",
    "che fanno sì che Matplotlib funzioni come MATLAB. Ogni funzione pyplot\n",
    "apporta alcune modifiche a una figura, ad esempio: crea una figura, crea\n",
    "l'area di un grafico in una figura, traccia alcune linee in un'area di\n",
    "grafico, aggiunge formattazione al grafico con etichette, ecc.\n",
    "\n",
    "`pyplot` è destinato principalmente alla creazione di grafici\n",
    "interattivi e casi semplici di generazione di grafici programmatici.\n",
    "\n",
    "![](https://miro.medium.com/max/2000/1*swPzVFGpYdijWAmbrydCDw.png)"
   ],
   "id": "e78a5c26d0c2e02a"
  },
  {
   "metadata": {},
   "cell_type": "code",
   "outputs": [],
   "execution_count": null,
   "source": [
    "%matplotlib inline\n",
    "# questo serve all'interprete ipython per mostrare il grafico in Jupyter\n",
    "\n",
    "import pandas as pd\n",
    "import matplotlib.pyplot as plt"
   ],
   "id": "44c77a9b6ce4c04"
  },
  {
   "metadata": {},
   "cell_type": "markdown",
   "source": "### Importa di nuovo il dataframe, leggilo come DataFrame pandas e assegnalo alla variabile df",
   "id": "38dd7ec7999f51f6"
  },
  {
   "metadata": {},
   "cell_type": "code",
   "outputs": [],
   "execution_count": null,
   "source": "df = pd.read_csv('../data/Penguins/penguins_clean.csv')",
   "id": "6739d24695102e16"
  },
  {
   "metadata": {},
   "cell_type": "markdown",
   "source": "### Rinfreschiamoci la memoria su come erano fatti i dati",
   "id": "6316fad61666ff12"
  },
  {
   "metadata": {},
   "cell_type": "code",
   "outputs": [],
   "execution_count": null,
   "source": "df.head()",
   "id": "4ff1a71e06706713"
  },
  {
   "metadata": {},
   "cell_type": "markdown",
   "source": [
    "### Utilizzo di DataFrame.plot() in pandas\n",
    "L'oggetto DataFrame pandas dispone di un metodo `plot()` che fornisce\n",
    "grafici elementari di diversi tipi, tra cui: 'line', 'bar', 'hist',\n",
    "'box' ecc. Puoi anche impostare parametri per controllare il layout e le\n",
    "etichette del grafico.\n",
    "\n",
    "`plot()` utilizza `matplotlib.pyplot` in background, il che rende molto\n",
    "più semplice tracciare i dati in un DataFrame\n",
    "\n",
    "Troverai molto utile questa pagina (in inglese):\n",
    "<https://pandas.pydata.org/pandas-docs/stable/reference/api/pandas.DataFrame.plot.html>\n",
    "\n",
    "#### Esempio: diagramma a scatola e baffi"
   ],
   "id": "95a1791e968ced03"
  },
  {
   "metadata": {},
   "cell_type": "code",
   "outputs": [],
   "execution_count": null,
   "source": "df.plot(kind='box')",
   "id": "4c10db0448988190"
  },
  {
   "metadata": {},
   "cell_type": "markdown",
   "source": "Le scale dei nostri dati non si allineano particolarmente bene. Quindi, per un grafico più chiaro, ignoreremo la massa corporea dei pinguini.",
   "id": "e6af817e622207d0"
  },
  {
   "metadata": {},
   "cell_type": "code",
   "outputs": [],
   "execution_count": null,
   "source": "df.drop([\"body_mass_g\"], axis=1).plot(kind='box')",
   "id": "543bf9020c543fb7"
  },
  {
   "metadata": {},
   "cell_type": "markdown",
   "source": "#### Per una presentazione migliore: regoliamo le dimensioni della figura, aggiungiamo il titolo e legenda",
   "id": "3eb822f45a41508b"
  },
  {
   "metadata": {},
   "cell_type": "code",
   "outputs": [],
   "execution_count": null,
   "source": "df.drop([\"body_mass_g\"], axis=1).plot(kind='box', figsize=(10,8), title='Grafico su diverse misurazioni di specie di pinguini', legend=True)",
   "id": "ea721038f513c622"
  },
  {
   "metadata": {},
   "cell_type": "markdown",
   "source": "#### Creare sottografici",
   "id": "ffb320e629b35e8e"
  },
  {
   "metadata": {},
   "cell_type": "code",
   "outputs": [],
   "execution_count": null,
   "source": [
    "df.plot(kind='box',\n",
    "        subplots=True, layout=(2,2),\n",
    "        figsize=(10,8), title='Grafico su diverse misurazioni di specie di pinguini', legend=True)"
   ],
   "id": "e47768645bd8dd88"
  },
  {
   "metadata": {},
   "cell_type": "markdown",
   "source": [
    "<div class=\"alert alert-block alert-warning\" style=\"padding: 0px; padding-left: 20px; padding-top: 5px;\"><h2 style=\"color: #301E40\">\n",
    "Esercizio: confrontare la lunghezza del becco di diverse specie di pinguini\n",
    "</h2><br>\n",
    "</div>\n",
    "\n",
    "Usiamo il diagramma a scatola e baffi per confrontare la lunghezza del becco di diverse specie di pinguini. Abbiamo bisogno che il DataFrame sia leggermente diverso in modo da poter confrontare le diverse specie di pinguini. Vorremmo effettuare il pivoting dei dati in modo che ciascuna colonna indichi la lunghezza del becco di diverse specie di pinguini.\n",
    "\n",
    "#### Prepara il set di dati"
   ],
   "id": "eb2d1479515a35e8"
  },
  {
   "metadata": {},
   "cell_type": "code",
   "outputs": [],
   "execution_count": null,
   "source": [
    "df_pivot = df.pivot(index=None, columns='species', values='bill_length_mm')\n",
    "# indica al metodo pivot() di creare 'species' come colonne e di utilizzare 'bill_length_mm' come valore"
   ],
   "id": "ebde82f25964bc04"
  },
  {
   "metadata": {},
   "cell_type": "code",
   "outputs": [],
   "execution_count": null,
   "source": "df_pivot.sample(10)",
   "id": "43554d913f526304"
  },
  {
   "metadata": {},
   "cell_type": "markdown",
   "source": [
    "#### Diagramma a scatola e baffi di df_pivot\n",
    "\n",
    "Ora possiamo usare `plot()` su `df_pivot`. Per creare un diagramma a\n",
    "scatola e baffi, ricorda di impostare il parametro `kind` su 'box'.\n",
    "Rendi anche gradevole la presentazione impostando dimensioni adeguate\n",
    "con `figsize` e un titolo chiaro con `title`. Non dimenticare la legenda\n",
    "con `legend`."
   ],
   "id": "6fc5fe0c73a22eb2"
  },
  {
   "metadata": {},
   "cell_type": "code",
   "outputs": [],
   "execution_count": null,
   "source": "",
   "id": "6e8e5bf998145027"
  },
  {
   "metadata": {},
   "cell_type": "markdown",
   "source": [
    "#### Esercizio aggiuntivo\n",
    "\n",
    "Sfidati creando il tuo `df_pivot` effettuando il pivoting su una misura\n",
    "diversa (ad esempio la massa corporea). Prova anche a utilizzare un\n",
    "istogramma (hist) invece di un diagramma a scatola e baffi. Puoi anche\n",
    "provare a creare un grafico con 3 sottografici, ciascuno dei quali è un\n",
    "istogramma di un tipo di pinguino."
   ],
   "id": "dcaf3d64a4535e61"
  },
  {
   "metadata": {},
   "cell_type": "code",
   "outputs": [],
   "execution_count": null,
   "source": "",
   "id": "9901a4d92548a0ce"
  },
  {
   "metadata": {},
   "cell_type": "markdown",
   "source": [
    "Finora non stiamo utilizzando `matplotlib.pyplot` direttamente. Sebbene\n",
    "sia molto comodo usare `df.plot()`, a volte vorremmo avere più controllo\n",
    "su ciò che stiamo tracciando e creare grafici più complessi. Nelle\n",
    "sezioni seguenti utilizzeremo direttamente `matplotlib.pyplot` (che ora\n",
    "viene importato come `plt`).\n",
    "\n",
    "### Dividi i dati in 3 tipi\n",
    "\n",
    "Per creare i seguenti grafici, dobbiamo creare un DataFrame pandas per\n",
    "ciascuna specie di pinguino."
   ],
   "id": "871ffea64bb2f9fb"
  },
  {
   "metadata": {},
   "cell_type": "code",
   "outputs": [],
   "execution_count": null,
   "source": "df['species'].unique()",
   "id": "aa819214448ddd99"
  },
  {
   "metadata": {},
   "cell_type": "code",
   "outputs": [],
   "execution_count": null,
   "source": "df_adelie = df[df['species'] == 'Adelie']",
   "id": "f50a55b210e978e0"
  },
  {
   "metadata": {},
   "cell_type": "code",
   "outputs": [],
   "execution_count": null,
   "source": "df_chinstrap = df[df['species'] == 'Chinstrap']",
   "id": "d02d8f7eab05af51"
  },
  {
   "metadata": {},
   "cell_type": "code",
   "outputs": [],
   "execution_count": null,
   "source": "df_gentoo = df[df['species'] == 'Gentoo']",
   "id": "1ffc1f26fe5cd3cf"
  },
  {
   "metadata": {},
   "cell_type": "markdown",
   "source": "### Esempio di grafico a dispersione: grafico su lunghezza e larghezza del becco",
   "id": "a6c1f64959bcee35"
  },
  {
   "metadata": {},
   "cell_type": "code",
   "outputs": [],
   "execution_count": null,
   "source": [
    "plt.scatter(df_adelie['bill_length_mm'], df_adelie['bill_depth_mm'], c='r')\n",
    "plt.scatter(df_chinstrap['bill_length_mm'], df_chinstrap['bill_depth_mm'], c='g')\n",
    "plt.scatter(df_gentoo['bill_length_mm'], df_gentoo['bill_depth_mm'], c='b')"
   ],
   "id": "3049b4f4bbb0e6bd"
  },
  {
   "metadata": {},
   "cell_type": "markdown",
   "source": "#### Per una presentazione migliore: regoliamo le dimensioni della figura, aggiungiamo le etichette e la legenda",
   "id": "f21c62122c7f8c34"
  },
  {
   "metadata": {},
   "cell_type": "code",
   "outputs": [],
   "execution_count": null,
   "source": [
    "plt.figure(figsize=(10,8)) # imposta le dimensioni del grafico\n",
    "\n",
    "plt.scatter(df_adelie['bill_length_mm'], df_adelie['bill_depth_mm'], c='r')\n",
    "plt.scatter(df_chinstrap['bill_length_mm'], df_chinstrap['bill_depth_mm'], c='g')\n",
    "plt.scatter(df_gentoo['bill_length_mm'], df_gentoo['bill_depth_mm'], c='b')\n",
    "\n",
    "ax = plt.gca() #Il metodo gca dice al resto del codice di fare riferimento al grafico che abbiamo creato\n",
    "\n",
    "ax.set_xlabel('Lunghezza del becco (mm)')\n",
    "ax.set_ylabel('Larghezza del becco (mm)')\n",
    "ax.set_title('Lunghezza e larghezza del becco per diverse specie di pinguini')\n",
    "\n",
    "ax.legend(('adelie', 'chinstrap', 'gentoo'))"
   ],
   "id": "7275fc8224087072"
  },
  {
   "metadata": {},
   "cell_type": "markdown",
   "source": [
    "### Esercizio sul grafico a dispersione: grafico sulla lunghezza delle ali e sulla massa corporea\n",
    "\n",
    "Ora tocca a te creare il tuo grafico. Assicurati di aver impostato anche\n",
    "le etichette e la legenda."
   ],
   "id": "81fe7bf9003161f4"
  },
  {
   "metadata": {},
   "cell_type": "code",
   "outputs": [],
   "execution_count": null,
   "source": "",
   "id": "711f8e62ab1b3e23"
  },
  {
   "metadata": {},
   "cell_type": "markdown",
   "source": "### Esempio di istogramma: grafico sulla lunghezza del becco",
   "id": "bae7a3ec8231d06"
  },
  {
   "metadata": {},
   "cell_type": "code",
   "outputs": [],
   "execution_count": null,
   "source": [
    "plt.figure(figsize=(10,8))\n",
    "\n",
    "plt.hist(df_adelie['bill_length_mm'], color='r', alpha=.5) # l'alpha imposta la trasparenza del grafico\n",
    "plt.hist(df_chinstrap['bill_length_mm'], color='g', alpha=.5)\n",
    "plt.hist(df_gentoo['bill_length_mm'], color='b', alpha=.5)\n",
    "\n",
    "ax = plt.gca()\n",
    "\n",
    "ax.set_xlabel('Lunghezza del becco (mm)')\n",
    "ax.set_title('Istogramma della lunghezza del becco per diverse specie di pinguini')\n",
    "\n",
    "ax.legend(('adelie', 'chinstrap', 'gentoo'))"
   ],
   "id": "9a0bad9fe9b83146"
  },
  {
   "metadata": {},
   "cell_type": "markdown",
   "source": [
    "### Esercizio sull'istogramma: grafico sulla massa corporea\n",
    "\n",
    "Ora tocca a te creare il tuo grafico. Assicurati di impostare l'alpha su un valore corretto e di avere le etichette e la legenda corrette."
   ],
   "id": "462d6b3a2736bd21"
  },
  {
   "metadata": {},
   "cell_type": "code",
   "outputs": [],
   "execution_count": null,
   "source": "",
   "id": "8594f600762e66c4"
  },
  {
   "metadata": {},
   "cell_type": "markdown",
   "source": [
    "### Esempio di creazione di sottografici\n",
    "\n",
    "Creare sottografici solo con `plt` è un po' più complicato. È\n",
    "considerato un argomento avanzato e richiede una certa comprensione di\n",
    "quali siano gli elementi costitutivi di un grafico. Non preoccuparti se\n",
    "riscontri qualche difficoltà, puoi sempre seguire l'esempio e provare in\n",
    "autonomia per capire meglio cosa sta succedendo.\n",
    "\n",
    "L'esempio seguente traccia gli istogrammi della Lunghezza del becco e\n",
    "della Larghezza del becco affiancati."
   ],
   "id": "9ef821f217d7bca6"
  },
  {
   "metadata": {},
   "cell_type": "code",
   "outputs": [],
   "execution_count": null,
   "source": [
    "# Per prima cosa dobbiamo decidere quanti sottografici vogliamo e come sono orientati\n",
    "# supponiamo di volerli vedere fianco a fianco (cioè 1 riga 2 colonne)\n",
    "\n",
    "fig, (ax0, ax1) = plt.subplots(nrows=1, ncols=2, figsize=(15,8))\n",
    "\n",
    "# questo creerà un oggetto figura (che è l'intera area del grafico)\n",
    "# e 2 assi (che sono i 2 sottografici etichettati ax0 e ax1)\n",
    "\n",
    "# Ora possiamo inserire i grafici di conseguenza\n",
    "\n",
    "### per ax0 ###\n",
    "\n",
    "ax0.hist(df_adelie['bill_length_mm'], color='r', alpha=.5) \n",
    "ax0.hist(df_chinstrap['bill_length_mm'], color='g', alpha=.5)\n",
    "ax0.hist(df_gentoo['bill_length_mm'], color='b', alpha=.5)\n",
    "\n",
    "ax0.set_xlabel('Lunghezza del becco (mm)')\n",
    "ax0.set_title('Istogramma della lunghezza del becco per diverse specie di pinguini')\n",
    "\n",
    "ax0.legend(('adelie', 'chinstrap', 'gentoo'))\n",
    "\n",
    "### per ax1 ###\n",
    "\n",
    "ax1.hist(df_adelie['bill_depth_mm'], color='r', alpha=.5) \n",
    "ax1.hist(df_chinstrap['bill_depth_mm'], color='g', alpha=.5)\n",
    "ax1.hist(df_gentoo['bill_depth_mm'], color='b', alpha=.5)\n",
    "\n",
    "ax1.set_xlabel('Lareghezza del becco (mm)')\n",
    "ax1.set_title('Istogramma della larghezza del becco per diverse specie di pinguini')\n",
    "\n",
    "ax1.legend(('adelie', 'chinstrap', 'gentoo'))\n",
    "\n",
    "plt.show() # dopo aver creato ciò che vogliamo su entrambi gli assi, usa il metodo show() per mostrare i grafici"
   ],
   "id": "ce7bcd02e99507e4"
  },
  {
   "metadata": {},
   "cell_type": "markdown",
   "source": [
    "<div class=\"alert alert-block alert-warning\" style=\"padding: 0px; padding-left: 20px; padding-top: 5px;\"><h2 style=\"color: #301E40\">\n",
    "Esercizio di creazione di sottografici\n",
    "</h2><br>\n",
    "</div>\n",
    "\n",
    "Crea 2 sottografici, uno sopra l'altro. Entrambi sono grafici a dispersione della lunghezza dell'ala e della massa corporea (per le varie specie di pinguini). Dopo averlo fatto, prova anche altri orientamenti e grafici. Vedi se riesci a posizionare 4 sottografici insieme. Assicurati sempre che la presentazione sia efficace."
   ],
   "id": "96cab1e44883ac49"
  },
  {
   "metadata": {},
   "cell_type": "markdown",
   "source": [
    "<div class=\"alert alert-block alert-warning\" style=\"padding: 0px; padding-left: 20px; padding-top: 5px;\"><h2 style=\"color: #301E40\">\n",
    "Altro su matplotlib!\n",
    "</h2><br>\n",
    "</div>\n",
    "\n",
    "Scopri altri esempi di istogramma con più set di dati: [https:/\n",
    "/matplotlib.org/gallery/statistics/histogram_multihist.html#sphx-glr-gallery-statistics-histogram-multihist-py](https://matplotlib.org/gallery/statistics/histogram_multihist.html#sphx-glr-gallery-statistics-histogram-multihist-py)\n",
    "\n",
    "Esempio: creare un istogramma da un grafico a dispersione e aggiungerlo\n",
    "ai lati del grafico [https://matplotlib.org/\n",
    "gallery/lines_bars_and_markers/scatter_hist.html#sphx-glr-gallery-lines-bars-and-markers-scatter-hist-py](https://matplotlib.org/gallery/lines_bars_and_markers/scatter_hist.html#sphx-glr-gallery-lines-bars-and-markers-scatter-hist-py)\n",
    "\n",
    "C'è molto altro da imparare su matplotlib. È una libreria molto potente.\n",
    "Puoi sempre imparare altro guardando gli esempi su:\n",
    "<https://matplotlib.org/gallery/index.html>\n",
    "\n",
    "Inoltre, se qualche passaggio ti blocca, controlla sempre la\n",
    "documentazione: [https://matplotlib.org/\n",
    "api/\\_as_gen/matplotlib.pyplot.html#module-matplotlib.pyplot](https://matplotlib.org/api/_as_gen/matplotlib.pyplot.html#module-matplotlib.pyplot)\n",
    "\n",
    "![](https://media0.giphy.com/media/l3nF8lOW9D0ZElDvG/200.gif)"
   ],
   "id": "25fc3f7160126bdf"
  }
 ],
 "metadata": {
  "kernelspec": {
   "display_name": "Python 3",
   "language": "python",
   "name": "python3"
  },
  "language_info": {
   "codemirror_mode": {
    "name": "ipython",
    "version": 2
   },
   "file_extension": ".py",
   "mimetype": "text/x-python",
   "name": "python",
   "nbconvert_exporter": "python",
   "pygments_lexer": "ipython2",
   "version": "2.7.6"
  }
 },
 "nbformat": 4,
 "nbformat_minor": 5
}
