{
 "cells": [
  {
   "metadata": {},
   "cell_type": "markdown",
   "source": [
    "<div class=\"alert alert-block alert-info\" style=\"background-color: #301E40; border: 0px; -moz-border-radius: 10px; -webkit-border-radius: 10px;\">\n",
    "<br/><br/>\n",
    "<h1 style=\"font-size: 45px; color: white; align: center;\"><center>\n",
    "<img src=\"https://raw.githubusercontent.com/HumbleData/beginners-data-workshop/master/media/humble-data-logo-white-transparent.png\" width=\"250px\" /><br/><br/>\n",
    "Approfondiamo Python\n",
    "</center></h1>\n",
    "</div>\n",
    "\n",
    "***Nota***: questo notebook contiene celle di soluzione con una (sola) soluzione. Ricorda che non esiste un'unica soluzione a un problema!  \n",
    "Riconoscerai queste celle in quanto iniziano con **\\# %**.  \n",
    "Se desideri vedere la soluzione, dovrai rimuovere il carattere **\\#** (che può essere fatto anche usando **Ctrl** e **?**) e quindi eseguire la cella. Se desideri eseguire il codice della soluzione, dovrai eseguire nuovamente la cella."
   ],
   "id": "737d3c9b1c86a8d7"
  },
  {
   "metadata": {},
   "cell_type": "markdown",
   "source": [
    "---\n",
    "\n",
    "<div class=\"alert alert-block alert-warning\" style=\"padding: 0px; padding-left: 20px; padding-top: 5px;\"><h2 style=\"color: #301E40\">\n",
    "Dizionari\n",
    "</h2><br>\n",
    "</div>\n",
    "\n",
    "**Un dizionario è formato da coppie chiave-valore, separate da virgole,\n",
    "racchiuse tra parentesi graffe ( {} ).  \n",
    "La chiave e il valore sono separati da due punti (:), ovvero\n",
    "chiave:valore.**"
   ],
   "id": "19a30b2ebd1995eb"
  },
  {
   "metadata": {},
   "cell_type": "code",
   "outputs": [],
   "execution_count": null,
   "source": "diz_saluti = {'Namibia':'Hallo', 'Francia':'Bonjour', 'Spagna':'Ola', 'Regno Unito':'Hello', 'Italia':'Ciao'}",
   "id": "7bc5ca0f2f3ac348"
  },
  {
   "metadata": {},
   "cell_type": "code",
   "outputs": [],
   "execution_count": null,
   "source": "diz_saluti # non esiste un ordine in un dizionario",
   "id": "5c9d1b5231fd5a4b"
  },
  {
   "metadata": {},
   "cell_type": "markdown",
   "source": [
    "**Possiamo accedere ai valori utilizzando le chiavi tra parentesi\n",
    "quadre.**\n",
    "\n",
    "> Ottieni il saluto dell'Italia (usa parentesi quadre)."
   ],
   "id": "4e0ef47c201619e3"
  },
  {
   "metadata": {},
   "cell_type": "code",
   "outputs": [],
   "execution_count": null,
   "source": "",
   "id": "c97cc2698ddd2c91"
  },
  {
   "metadata": {},
   "cell_type": "code",
   "outputs": [],
   "execution_count": null,
   "source": " # %run ../solutions/04_01.py",
   "id": "234ec41e757341c2"
  },
  {
   "metadata": {},
   "cell_type": "markdown",
   "source": [
    "**Le chiavi sono immutabili (ovvero non possono essere modificate) ma i\n",
    "valori possono essere aggiornati.**\n",
    "\n",
    "> Sostituisci il saluto del Regno Unito con 'Good Morning'.  \n",
    "> Stampa il dizionario."
   ],
   "id": "9732c2f952dc216e"
  },
  {
   "metadata": {},
   "cell_type": "code",
   "outputs": [],
   "execution_count": null,
   "source": "",
   "id": "e0ed6880e3b08dbd"
  },
  {
   "metadata": {},
   "cell_type": "code",
   "outputs": [],
   "execution_count": null,
   "source": "# %run ../solutions/04_02.py",
   "id": "408618aec37d3b00"
  },
  {
   "metadata": {},
   "cell_type": "markdown",
   "source": [
    "**Possiamo anche aggiungere nuove coppie chiave-valore.**\n",
    "\n",
    "> Aggiungi il saluto delle 'Hawaii', che è 'Aloha'"
   ],
   "id": "380095c3c850855b"
  },
  {
   "metadata": {},
   "cell_type": "code",
   "outputs": [],
   "execution_count": null,
   "source": "",
   "id": "ffd2d26d591d1b7b"
  },
  {
   "metadata": {},
   "cell_type": "code",
   "outputs": [],
   "execution_count": null,
   "source": "%run ../solutions/04_03.py",
   "id": "85ed91b5d6650625"
  },
  {
   "metadata": {},
   "cell_type": "markdown",
   "source": [
    "---\n",
    "\n",
    "<div class=\"alert alert-block alert-warning\" style=\"padding: 0px; padding-left: 20px; padding-top: 5px;\"><h2 style=\"color: #301E40\">\n",
    "Insiemi\n",
    "</h2><br>\n",
    "</div>\n",
    "\n",
    "**Un insieme è una raccolta di elementi non ripetuti, non ordinati e non\n",
    "indicizzati.**"
   ],
   "id": "4e74dc5e7a80792"
  },
  {
   "metadata": {},
   "cell_type": "code",
   "outputs": [],
   "execution_count": null,
   "source": [
    "important_set = set(['me','me stesso', 'me', 'io'])\n",
    "important_set"
   ],
   "id": "142dc0123bdf120a"
  },
  {
   "metadata": {},
   "cell_type": "markdown",
   "source": [
    "Possiamo aggiungere un elemento a un set utilizzando il metodo\n",
    "***add***..."
   ],
   "id": "4291775868f59449"
  },
  {
   "metadata": {},
   "cell_type": "code",
   "outputs": [],
   "execution_count": null,
   "source": [
    "important_set.add('tu')\n",
    "important_set"
   ],
   "id": "b588a417d83e255a"
  },
  {
   "metadata": {},
   "cell_type": "markdown",
   "source": "...o più elementi utilizzando il metodo ***update***.",
   "id": "bcbedfd4e2521d10"
  },
  {
   "metadata": {},
   "cell_type": "code",
   "outputs": [],
   "execution_count": null,
   "source": [
    "other_set = {'io', 'tutti voi', 'altre persone'}\n",
    "important_set.update(other_set)\n",
    "important_set"
   ],
   "id": "cb7caf15e2f91cac"
  },
  {
   "metadata": {},
   "cell_type": "markdown",
   "source": [
    "Puoi trovare i metodi utilizzabili sugli insiemi\n",
    "[qui](https://docs.python.org/2/library/sets.html).  \n",
    "Ad esempio, puoi ottenere l'intersezione di due insiemi."
   ],
   "id": "d7d1f473c28adf28"
  },
  {
   "metadata": {},
   "cell_type": "code",
   "outputs": [],
   "execution_count": null,
   "source": [
    "set_1 = {3, 6, 9, 12, 15, 18, 21, 24, 27, 30}\n",
    "set_2 = {5, 10, 15, 20, 25, 30}\n",
    "set_3 = set_1.intersection(set_2)\n",
    "set_3"
   ],
   "id": "12784047cee3b22b"
  },
  {
   "metadata": {},
   "cell_type": "markdown",
   "source": [
    "---\n",
    "\n",
    "<div class=\"alert alert-block alert-warning\" style=\"padding: 0px; padding-left: 20px; padding-top: 5px;\"><h2 style=\"color: #301E40\">\n",
    "If - Elif - Else (costrutto di selezione)\n",
    "</h2><br>\n",
    "</div>"
   ],
   "id": "8bc3a0ff561a4cfd"
  },
  {
   "metadata": {},
   "cell_type": "markdown",
   "source": [
    "Scriviamo un breve programma con un'istruzione ***if*** per aiutarci a\n",
    "decidere se un nome è lungo o meno (è lungo nel caso abbia più di 6\n",
    "caratteri).  \n",
    "Dobbiamo rispettare i blocchi di codice e le indentazioni."
   ],
   "id": "81fd673e91920780"
  },
  {
   "metadata": {},
   "cell_type": "code",
   "outputs": [],
   "execution_count": null,
   "source": [
    "nome = '<inserisci_il_tuo_nome_qui>'\n",
    "\n",
    "if len(nome) > 6:\n",
    "    print('Il tuo nome è lungo.')\n",
    "else:\n",
    "    print('Il tuo nome è breve.')"
   ],
   "id": "fd9e80da8e01bd57"
  },
  {
   "metadata": {},
   "cell_type": "markdown",
   "source": [
    "> Scrivi un costrutto di selezione con ***If - Elif - Else*** stampando 'Python' se x è positivo, altrimenti 'sunshine' se y è uguale a 2, altrimenti 'data' se z è a multiplo di 3, altrimenti 'Perché?'.  \n",
    "> Testa il codice con diversi valori di x, y e z."
   ],
   "id": "d94b5ad022db1cf7"
  },
  {
   "metadata": {},
   "cell_type": "code",
   "outputs": [],
   "execution_count": null,
   "source": [
    "x=\n",
    "y=\n",
    "z=\n",
    "\n",
    "if"
   ],
   "id": "4cf9e3300e95abf"
  },
  {
   "metadata": {},
   "cell_type": "code",
   "outputs": [],
   "execution_count": null,
   "source": "# %run ../solutions/04_04.py",
   "id": "618beadad65c01bf"
  },
  {
   "metadata": {},
   "cell_type": "markdown",
   "source": [
    "---\n",
    "\n",
    "<div class=\"alert alert-block alert-warning\" style=\"padding: 0px; padding-left: 20px; padding-top: 5px;\"><h2 style=\"color: #301E40\">\n",
    "Utilizzare \"and\" per verificare la presenza di None\n",
    "</h2><br>\n",
    "</div>\n",
    "\n",
    "A volte l'assenza di dato (indicata con None o np.nan) causa errori nei\n",
    "costrutti di selezione. Supponiamo di voler controllare età \\> 18, ma il\n",
    "dato età è assente o è un NaN. In questo caso, esiste un trucco. Poiché\n",
    "nell'operazione `and` il secondo argomento non viene controllato se il\n",
    "primo è False (in quanto il risultato sarà comunque False), possiamo far\n",
    "controllare se il numero è valido come primo argomento per evitare\n",
    "l'errore. Ad esempio:"
   ],
   "id": "67d8693bf599d5d9"
  },
  {
   "metadata": {},
   "cell_type": "code",
   "outputs": [],
   "execution_count": null,
   "source": [
    "età = None\n",
    "età > 18 # ottieni un errore"
   ],
   "id": "aacc7ac332a3292c"
  },
  {
   "metadata": {},
   "cell_type": "code",
   "outputs": [],
   "execution_count": null,
   "source": [
    "età = None\n",
    "(età is not None) and (età > 18) # nessun errore"
   ],
   "id": "57e136ebfe43ab88"
  },
  {
   "metadata": {},
   "cell_type": "markdown",
   "source": [
    "Il vantaggio di scrivere codice in questo modo è che avremo un codice\n",
    "più semplice e una struttura `if` meno indentata"
   ],
   "id": "9eeee7d7fae2ac75"
  },
  {
   "metadata": {},
   "cell_type": "code",
   "outputs": [],
   "execution_count": null,
   "source": [
    "if età is not None:\n",
    "    if età > 18:\n",
    "        print(\"Eccoti una birra\")\n",
    "        \n",
    "# che è meno pulito rispetto a\n",
    "\n",
    "if (età is not None) and (età > 18):\n",
    "    print(\"Eccoti una birra\")"
   ],
   "id": "1c9c875d279804c1"
  },
  {
   "metadata": {},
   "cell_type": "markdown",
   "source": [
    "---\n",
    "\n",
    "<div class=\"alert alert-block alert-warning\" style=\"padding: 0px; padding-left: 20px; padding-top: 5px;\"><h2 style=\"color: #301E40\">\n",
    "Funzioni\n",
    "</h2><br>\n",
    "</div>\n",
    "\n",
    "**Possiamo definire le nostre funzioni con la parola chiave \"def\"\n",
    "seguita dal nome della funzione e dai parametri indicati tra\n",
    "parentesi.**\n",
    "\n",
    "Utilizzando la lista **lista_saluti**, possiamo definire una funzione\n",
    "**controllo_saluto** che valuterà se una stringa è un saluto o meno."
   ],
   "id": "5f23f3c79652462f"
  },
  {
   "metadata": {},
   "cell_type": "code",
   "outputs": [],
   "execution_count": null,
   "source": [
    "lista_saluti = ['Hallo', 'Bonjour', 'Ola', 'Hello', 'Ciao', 'Ave']\n",
    "\n",
    "def controllo_saluto(s):\n",
    "    \"\"\"Restituisce True se s è in lista_saluti, altrimenti False.\"\"\"\n",
    "    if s in lista_saluti:\n",
    "        return True\n",
    "    else:\n",
    "        return False "
   ],
   "id": "f35d68baf89879a7"
  },
  {
   "metadata": {},
   "cell_type": "markdown",
   "source": "Ora possiamo verificare se **Ola** e **Yo** sono saluti.",
   "id": "d3deb301c9613ec6"
  },
  {
   "metadata": {},
   "cell_type": "code",
   "outputs": [],
   "execution_count": null,
   "source": "controllo_saluto('Ola')",
   "id": "976a8680d32153ed"
  },
  {
   "metadata": {},
   "cell_type": "code",
   "outputs": [],
   "execution_count": null,
   "source": "controllo_saluto('Yo')",
   "id": "d9940e5d0325c377"
  },
  {
   "metadata": {},
   "cell_type": "markdown",
   "source": [
    "> Recupera la documentazione per la funzione controllo_saluto.\n",
    "> Suggerimento: prova a utilizzare un punto interrogativo."
   ],
   "id": "37a90302ea842a1f"
  },
  {
   "metadata": {},
   "cell_type": "code",
   "outputs": [],
   "execution_count": null,
   "source": "",
   "id": "212f5bf578f55853"
  },
  {
   "metadata": {},
   "cell_type": "code",
   "outputs": [],
   "execution_count": null,
   "source": "# %run ../solutions/04_05.py",
   "id": "58e3e384f3eef97"
  },
  {
   "metadata": {},
   "cell_type": "markdown",
   "source": [
    "> Scrivi una funzione che restituisca l'input moltiplicato per 3 e\n",
    "> aumentato di 10.\n",
    "\n",
    "Nota: chiamiamo questi input argomenti."
   ],
   "id": "32da361b8016308"
  },
  {
   "metadata": {},
   "cell_type": "code",
   "outputs": [],
   "execution_count": null,
   "source": "",
   "id": "4901fc0038582c85"
  },
  {
   "metadata": {},
   "cell_type": "code",
   "outputs": [],
   "execution_count": null,
   "source": "# %run ../solutions/04_06.py",
   "id": "79f4b3a3752dfd26"
  }
 ],
 "metadata": {
  "kernelspec": {
   "display_name": "Python 3",
   "language": "python",
   "name": "python3"
  },
  "language_info": {
   "codemirror_mode": {
    "name": "ipython",
    "version": 2
   },
   "file_extension": ".py",
   "mimetype": "text/x-python",
   "name": "python",
   "nbconvert_exporter": "python",
   "pygments_lexer": "ipython2",
   "version": "2.7.6"
  }
 },
 "nbformat": 4,
 "nbformat_minor": 5
}
