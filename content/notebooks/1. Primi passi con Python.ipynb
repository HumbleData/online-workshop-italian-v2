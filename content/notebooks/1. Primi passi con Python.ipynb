{
 "cells": [
  {
   "metadata": {},
   "cell_type": "markdown",
   "source": [
    "<div class=\"alert alert-block alert-info\" style=\"background-color: #301E40; border: 0px; -moz-border-radius: 10px; -webkit-border-radius: 10px;\">\n",
    "<br/><br/>\n",
    "<h1 style=\"font-size: 45px; color: white; align: center;\"><center>\n",
    "<img src=\"https://raw.githubusercontent.com/HumbleData/beginners-data-workshop/master/media/humble-data-logo-white-transparent.png\" width=\"250px\" /><br/><br/>\n",
    "Introduzione a Python\n",
    "</center></h1>\n",
    "</div>\n",
    "\n",
    "## Ti diamo il benvenuto nel mondo di Python!\n",
    "\n",
    "In questi notebook troverai sia testo che codice. In questo modo, è possibile sperimentare col codice e studiare la parte teorica nello stesso posto. Un'altra cosa bella di questi notebook è che puoi eseguire ciascuna cella individualmente e quindi lavorare in modo incrementale con il tuo codice. Se vuoi eseguire una cella, puoi premere il pulsante \"►\" in alto dopo aver evidenziato la cella. In alternativa, puoi premere **Maiusc + Invio** per eseguire e passare alla cella successiva o in alternativa **Ctrl + Invio** (su Windows) o **Cmd + Invio** (su Mac).\n",
    "\n",
    "Ti guideremo attraverso i vari aspetti del linguaggio Python in modo interattivo. Sperimenta con calma, se desideri, e non esitare a chiedere o a cercare su Google. Una delle prime lezioni di programmazione è come utilizzare la documentazione e le informazioni condivise da altri programmatori. Jupyter ha un altro trucco: puoi posizionare il cursore tra le parentesi di una chiamata di funzione come `print()` e premere **Maiusc + Tab**. In questo modo potrai consultare la documentazione di una funzione direttamente nel notebook (*suggerimento*: puoi premere la combinazione fino a quattro volte per effetti diversi).\n",
    "\n",
    "Per quanto riguarda il linguaggio Python, uno dei suoi grandi punti di forza è l'estensibilità. Esistono una quantità sorprendente di funzionalità integrate nel linguaggio principale, tuttavia puoi importare con l'istruzione `import` qualsiasi codice arbitrario che altri programmatori rendono disponibile sotto forma di librerie. Di seguito puoi vedere un'importazione speciale che ti mostra lo \"Zen of Python\": una serie di linee guida che potresti seguire nel tuo viaggio\n",
    "nella programmazione."
   ],
   "id": "3de89f9df88e99eb"
  },
  {
   "metadata": {},
   "cell_type": "code",
   "outputs": [],
   "execution_count": null,
   "source": [
    "# Puoi usare i commenti per documentare il tuo codice in una cella di codifica.\n",
    "import this  # Zen of Python"
   ],
   "id": "447614d516c97149"
  },
  {
   "metadata": {},
   "cell_type": "markdown",
   "source": [
    "Questo comando stampa a video lo [\"Zen of Python\"](https://peps.python.org/pep-0020/): un insieme di 19 principi guida per lavorare in Python. Di seguito li trovi tradotti in italiano:\n",
    "\n",
    "Lo Zen di Python, di Tim Peters\n",
    "\n",
    "Meglio bello che brutto. Meglio esplicito che implicito. Meglio semplice che complesso. Meglio complesso che complicato. Meglio lineare che nidificato. Meglio sparso che denso. La leggibilità è importante. Nessun caso è così speciale da poter infrangere le regole. Meglio pratico che puro. Gli errori non dovrebbero mai accadere in silenzio. A meno che non vengano esplicitamente messi a tacere. Di fronte all'ambiguità, rifiuta la tentazione di provare a indovinare. Dovrebbe esserci un modo ovvio, e preferibilmente solo uno, per raggiungere il risultato. Anche se all'inizio potrebbe non essere ovvio, a meno che tu non sia olandese. Meglio adesso che mai. Anche se mai è spesso meglio che *proprio adesso*. Se l'implementazione è difficile da spiegare, è una cattiva idea. Se l'implementazione è facile da spiegare, potrebbe essere una buona idea. I namespace sono un'ottima idea: usiamoli il più possibile!\n",
    "\n",
    "Concentriamoci su uno di questi: **--\\> Meglio semplice che complesso.**  \n",
    "È davvero semplice stampare a video ***Ciao, mondo!*** in Python:"
   ],
   "id": "6c6f8f270bf9c5a7"
  },
  {
   "metadata": {},
   "cell_type": "code",
   "outputs": [],
   "execution_count": null,
   "source": "print('Ciao, mondo!')",
   "id": "9531ed45e67155d8"
  },
  {
   "metadata": {},
   "cell_type": "markdown",
   "source": [
    "**PEP 8** è la guida di stile di Python. La trovi qui: [https://www.python.org/dev/peps/pep-0008/](https://www.python.org/dev/peps/pep-0008/)\n",
    "\n",
    "Quando avrai raggiunto il livello di programmatore professionista, sfrutterai programmi chiamati \"linter\" che ti aiuteranno ad aderire al PEP 8.\n",
    "\n",
    "Prima di iniziare, dobbiamo solo eseguire una piccola configurazione. Esegui la cella sottostante e attendi finché non viene stampato \"Finished! 🎉\"."
   ],
   "id": "201f523477753f4d"
  },
  {
   "metadata": {
    "ExecuteTime": {
     "end_time": "2024-05-13T07:29:01.491596Z",
     "start_time": "2024-05-13T07:29:01.489146Z"
    }
   },
   "cell_type": "code",
   "source": [
    "import pyodide_js\n",
    "\n",
    "# Installa NumPy\n",
    "await pyodide_js.loadPackage('numpy')"
   ],
   "id": "d7cd01369e9b8b82",
   "outputs": [],
   "execution_count": 3
  },
  {
   "metadata": {},
   "cell_type": "markdown",
   "source": [
    "<div class=\"alert alert-block alert-warning\" style=\"padding: 0px; padding-left: 20px; padding-top: 5px;\"><h2 style=\"color: #301E40\">\n",
    "Variabili\n",
    "</h2><br>\n",
    "</div>"
   ],
   "id": "180fbd35b9fedb49"
  },
  {
   "metadata": {},
   "cell_type": "markdown",
   "source": [
    "Nella programmazione è molto utile memorizzare valori. Un'area di memoria che contiene valori a cui accediamo tramite nomi è detta variabile. Python è molto intuitivo in quanto ti permetterà di memorizzare quasi tutto in una variabile, senza prendersi spazio esplicitamente nella memoria del computer. Inoltre, i computer devono distinguere i tipi di dati: ad esempio `5` è un numero intero e `'Hello'` è una stringa, ma Python tenta di gestirli al posto tuo in modo intuitivo. Imparerai a conoscere i diversi tipi nelle prossime sezioni!\n",
    "\n",
    "**Python è un linguaggio di programmazione orientato agli oggetti. Non occorre dichiarare le variabili (o i loro tipi) prima di usarle poiché ogni variabile in Python è un oggetto.**"
   ],
   "id": "7f6696df5cd4f72d"
  },
  {
   "metadata": {},
   "cell_type": "code",
   "outputs": [],
   "execution_count": null,
   "source": "nome = 'Sandrine'",
   "id": "d3807f4a7bf0c449"
  },
  {
   "metadata": {},
   "cell_type": "code",
   "outputs": [],
   "execution_count": null,
   "source": "print(nome)",
   "id": "8747570f8d8e4388"
  },
  {
   "metadata": {},
   "cell_type": "markdown",
   "source": [
    "Inoltre, le variabili possono essere facilmente aggiornate. Provalo!\n",
    "\n",
    "------------------------------------------------------------------------\n",
    "\n",
    "***Nota***: questo notebook contiene celle con ***una sola*** soluzione. Ricorda che ci possono essere più soluzioni a un problema di programmazione! Riconoscerai queste celle in quanto iniziano con\n",
    "\n",
    "    # %\n",
    "\n",
    "Se desideri vedere la soluzione, dovrai rimuovere il carattere `#` utilizzando **Ctrl + /** (su Windows) o **Cmd + /** (su macOS) e quindi eseguire la cella. Se desideri eseguire il codice della soluzione, dovrai eseguire nuovamente la cella.\n",
    "\n",
    "------------------------------------------------------------------------\n",
    "\n",
    "> Assegna un'altra stringa alla variabile 'nome' e stampa questa variabile"
   ],
   "id": "1ed4055c7fa3c946"
  },
  {
   "metadata": {},
   "cell_type": "code",
   "outputs": [],
   "execution_count": null,
   "source": "",
   "id": "4dd6a1617667185c"
  },
  {
   "metadata": {},
   "cell_type": "code",
   "outputs": [],
   "execution_count": null,
   "source": "# %run ../solutions/01_01.py",
   "id": "aee1f1ad289bdacf"
  },
  {
   "metadata": {},
   "cell_type": "markdown",
   "source": [
    "<div class=\"alert alert-block alert-warning\" style=\"padding: 0px; padding-left: 20px; padding-top: 5px;\"><h2 style=\"color: #301E40\">\n",
    "Stringhe\n",
    "</h2><br>\n",
    "</div>"
   ],
   "id": "b887bfe5d00730c2"
  },
  {
   "metadata": {},
   "cell_type": "markdown",
   "source": "Una stringa inizia e finisce sempre con virgolette singole ( ' ) o doppie ( \" ). Non c'è differenza, tranne se è presente un apostrofo ( ' ) all'interno della stringa.",
   "id": "d8d948cd7b5654b8"
  },
  {
   "metadata": {},
   "cell_type": "code",
   "outputs": [],
   "execution_count": null,
   "source": "'Ce ne è ancora di pasta, se vuoi'",
   "id": "b1ff69c3acce703d"
  },
  {
   "metadata": {},
   "cell_type": "code",
   "outputs": [],
   "execution_count": null,
   "source": "\"Ce n'è ancora di pasta, se vuoi\"",
   "id": "b371e6cb76142024"
  },
  {
   "metadata": {},
   "cell_type": "markdown",
   "source": "> Scrivi *Quest'anno imparerò Python!* utilizzando le virgolette doppie e poi le virgolette singole.",
   "id": "112871b843111c68"
  },
  {
   "metadata": {},
   "cell_type": "code",
   "outputs": [],
   "execution_count": null,
   "source": "# virgolette doppie",
   "id": "2bbd2fe0fad314cb"
  },
  {
   "metadata": {},
   "cell_type": "code",
   "outputs": [],
   "execution_count": null,
   "source": "# %run ../solutions/01_03.py",
   "id": "7ed7f1b400abe5e"
  },
  {
   "metadata": {},
   "cell_type": "code",
   "outputs": [],
   "execution_count": null,
   "source": "# virgolette singole",
   "id": "f282c687aea1b9a2"
  },
  {
   "metadata": {},
   "cell_type": "code",
   "outputs": [],
   "execution_count": null,
   "source": "# %run ../solutions/01_04.py",
   "id": "b5c148c4f7234eb2"
  },
  {
   "metadata": {},
   "cell_type": "markdown",
   "source": [
    "**Oh no, un errore!** Beh, gli errori non sono nulla di cui aver paura.\n",
    "Considerali dei messaggi amichevoli che cercano di aiutarti a capire\n",
    "cosa è andato storto. Ecco come si leggono:\n",
    "\n",
    "-   Leggi gli errori al contrario, iniziando dal basso! È un\n",
    "    \"SyntaxError\" (in italiano \"errore di sintessi\"): significa che c'è\n",
    "    qualcosa di sbagliato nel nostro codice Python.\n",
    "-   C'è una freccetta `^` che indica cosa è andato storto. È qualcosa di\n",
    "    vicino alla a in `Quest'anno`\n",
    "-   Nella riga superiore c'è scritto che l'errore è sulla \"riga 2\". Ciò\n",
    "    è spesso utile quando si tenta di correggere (o \"debuggare\") un\n",
    "    codice errato.\n",
    "\n",
    "**Ti sveliamo che, se vuoi utilizzare virgolette singole o apostrofi\n",
    "all'interno di virgolette singole, è necessario anteporre una barra\n",
    "rovesciata ( \\\\ ) al carattere incriminato.**\n",
    "\n",
    "> Proviamo!"
   ],
   "id": "c561eb752ece32d4"
  },
  {
   "metadata": {},
   "cell_type": "code",
   "outputs": [],
   "execution_count": null,
   "source": "# virgolette singole, secondo tentativo",
   "id": "d13a614729f9df33"
  },
  {
   "metadata": {},
   "cell_type": "code",
   "outputs": [],
   "execution_count": null,
   "source": "# %run ../solutions/01_05.py",
   "id": "b85fd19e034d7ebf"
  },
  {
   "metadata": {},
   "cell_type": "markdown",
   "source": "Come accennato, Python cerca di gestire tutto nel modo più intuitivo possibile. Ciò significa che le stringhe possono essere sommate (concatenate).",
   "id": "b20c053d3c83b729"
  },
  {
   "metadata": {},
   "cell_type": "code",
   "outputs": [],
   "execution_count": null,
   "source": "'Siamo ' + 'ovunque nel mondo.'",
   "id": "e16218bcc6f853d4"
  },
  {
   "metadata": {},
   "cell_type": "markdown",
   "source": "Inoltre, le stringhe possono anche essere moltiplicate per un numero.",
   "id": "ce53186391640e40"
  },
  {
   "metadata": {},
   "cell_type": "code",
   "outputs": [],
   "execution_count": null,
   "source": "'Ottimo! 🎉' * 3",
   "id": "ea9de9a1f51952e9"
  },
  {
   "metadata": {},
   "cell_type": "code",
   "outputs": [],
   "execution_count": null,
   "source": "'😂' * 50",
   "id": "677ab546a2a4e4c4"
  },
  {
   "metadata": {},
   "cell_type": "markdown",
   "source": [
    "Possiamo accedere a parti di stringhe spezzettando una stringa. Un carattere (che è considerato come una stringa di lunghezza 1 da Python) in una stringa è un pezzo di stringa, mentre una sottostringa è un insieme di pezzi. Una cosa importante da tenere a mente:\n",
    "\n",
    "**!!! Come per i compleanni, Python inizia a contare da 0! (Si dice che è \"zero-indexed\")**\n",
    "\n",
    "(Se ti interessa il perché, ecco una [lettera storica di Dijkstra](https://www.cs.utexas.edu/users/EWD/transcriptions/EWD08xx/EWD831.html) a riguardo.)\n",
    "\n",
    "![image](../media/indexing-strings.png)"
   ],
   "id": "81e4189e577f7d2a"
  },
  {
   "metadata": {},
   "cell_type": "code",
   "outputs": [],
   "execution_count": null,
   "source": "s = 'Python è semplice.'",
   "id": "308417bde45ed9b8"
  },
  {
   "metadata": {},
   "cell_type": "markdown",
   "source": [
    "***Singolo carattere***  \n",
    "Possiamo accedere ai caratteri di una stringa facendo riferimento al numero di posizione (\"indice\") del carattere tra parentesi quadre."
   ],
   "id": "92f820d3fbe2e351"
  },
  {
   "metadata": {},
   "cell_type": "code",
   "outputs": [],
   "execution_count": null,
   "source": [
    "# Selezione del primo carattere della stringa s\n",
    "s[0]"
   ],
   "id": "7e8e3777bb7bd18e"
  },
  {
   "metadata": {},
   "cell_type": "markdown",
   "source": "> Seleziona l'ultimo carattere della stringa s",
   "id": "e09e99cff6c78585"
  },
  {
   "metadata": {},
   "cell_type": "code",
   "outputs": [],
   "execution_count": null,
   "source": "",
   "id": "37d8e0aa2dcd55ad"
  },
  {
   "metadata": {},
   "cell_type": "code",
   "outputs": [],
   "execution_count": null,
   "source": "# %run ../solutions/01_06.py",
   "id": "39f3c2c7262767ba"
  },
  {
   "metadata": {},
   "cell_type": "markdown",
   "source": [
    "***Sottostringa***  \n",
    "Possiamo estrarre un intervallo di caratteri di una stringa (sottostringa) utilizzando un intervallo."
   ],
   "id": "dfad41f4c8dd1221"
  },
  {
   "metadata": {},
   "cell_type": "code",
   "outputs": [],
   "execution_count": null,
   "source": [
    "# Selezionare dalla posizione 2 fino alla posizione 6 esclusa della stringa s\n",
    "s[2:6]  # L'indice 6 è escluso"
   ],
   "id": "30c881aaf606036c"
  },
  {
   "metadata": {},
   "cell_type": "markdown",
   "source": [
    "Possiamo saltare il numero di inizio (o fine) `s[:6]`. In questo caso si inizia dall'indice 0 (o nel caso della fine, si termina all'indice massimo).\n",
    "\n",
    "> Seleziona gli ultimi 3 caratteri della stringa s"
   ],
   "id": "154697b65ca2108e"
  },
  {
   "metadata": {},
   "cell_type": "code",
   "outputs": [],
   "execution_count": null,
   "source": "",
   "id": "79442abb7b32e2d3"
  },
  {
   "metadata": {},
   "cell_type": "code",
   "outputs": [],
   "execution_count": null,
   "source": "# %run ../solutions/01_07.py",
   "id": "a5253cdf92a9f4a4"
  },
  {
   "metadata": {},
   "cell_type": "markdown",
   "source": [
    "Possiamo verificare se una stringa contiene un'altra stringa al suo interno (una \"sottostringa\"), utilizzando *in* e *not in*.\n",
    "\n",
    "!!! Python fa distinzione tra maiuscole e minuscole! (Si dice che è \"case-sensitive\") La stringa `'a'` è diversa da `'A'` !!!"
   ],
   "id": "5f12f1b76fcf5233"
  },
  {
   "metadata": {},
   "cell_type": "code",
   "outputs": [],
   "execution_count": null,
   "source": [
    "# Controllo se s contiene 'python'\n",
    "print(s)\n",
    "'python' in s"
   ],
   "id": "a99eacdd4666d4d0"
  },
  {
   "metadata": {},
   "cell_type": "markdown",
   "source": "> Controlla se s non contiene 'Python' (P maiuscola)",
   "id": "1b8c2c76ba8d9def"
  },
  {
   "metadata": {},
   "cell_type": "code",
   "outputs": [],
   "execution_count": null,
   "source": "",
   "id": "2a7bf5f9862361a0"
  },
  {
   "metadata": {},
   "cell_type": "code",
   "outputs": [],
   "execution_count": null,
   "source": "# %run ../solutions/01_08.py",
   "id": "9b190578463efe9b"
  },
  {
   "metadata": {},
   "cell_type": "markdown",
   "source": [
    "<div class=\"alert alert-block alert-warning\" style=\"padding: 0px; padding-left: 20px; padding-top: 5px;\"><h2 style=\"color: #301E40\">\n",
    "Numeri\n",
    "</h2><br>\n",
    "</div>\n",
    "\n",
    "Python supporta vari tipi numerici. Due sono quelli più usati:\n",
    "\n",
    "-   **Integers (Interi):** sono numeri interi, ovvero `1`, `2`, `-5`\n",
    "-   **Floats (Decimali):** sono numeri a \"virgola mobile\", cioè quelli\n",
    "    con un punto decimale, ovvero `3.14158`, `2.5`, `0.1` e anche `3.0`.\n",
    "    Ricorda che in informatica il separatore decimale è il punto, non la\n",
    "    virgola.\n",
    "\n",
    "Python tenta di gestire i numeri in modo intuitivo quando si mescolano numeri interi e decimali.\n",
    "\n",
    "### Operazioni di base\n",
    "\n",
    "**Addizione:**\n",
    "\n",
    "> Prova a sommare 3 e 4."
   ],
   "id": "e1dfebfe0498d50f"
  },
  {
   "metadata": {},
   "cell_type": "code",
   "outputs": [],
   "execution_count": null,
   "source": "",
   "id": "6e2ab770fea56cd8"
  },
  {
   "metadata": {},
   "cell_type": "code",
   "outputs": [],
   "execution_count": null,
   "source": "# %run ../solutions/01_09.py",
   "id": "fd4162715116699a"
  },
  {
   "metadata": {},
   "cell_type": "markdown",
   "source": [
    "**Sottrazione:**\n",
    "\n",
    "> Prova a sottrarre 6 da 10.0."
   ],
   "id": "777948d001d13e16"
  },
  {
   "metadata": {},
   "cell_type": "code",
   "outputs": [],
   "execution_count": null,
   "source": "",
   "id": "d70b69f447b7cbe0"
  },
  {
   "metadata": {},
   "cell_type": "code",
   "outputs": [],
   "execution_count": null,
   "source": "# %run ../solutions/01_10.py",
   "id": "fab96abe08143cc3"
  },
  {
   "metadata": {},
   "cell_type": "markdown",
   "source": [
    "**Moltiplicazione:**  \n",
    "L'operatore della moltiplicazione è \\*.\n",
    "\n",
    "> Prova a moltiplicare 15 per 12."
   ],
   "id": "b68f614d082a4184"
  },
  {
   "metadata": {},
   "cell_type": "code",
   "outputs": [],
   "execution_count": null,
   "source": "",
   "id": "f63cf62e1627f489"
  },
  {
   "metadata": {},
   "cell_type": "code",
   "outputs": [],
   "execution_count": null,
   "source": "# %run ../solutions/01_11.py",
   "id": "d2d7385c37c4937d"
  },
  {
   "metadata": {},
   "cell_type": "markdown",
   "source": [
    "**Elevamento a potenza:**  \n",
    "L'operatore di esponente (o di potenza) è *`**`*.\n",
    "\n",
    "> Prova a elevare 2 alla potenza di 6"
   ],
   "id": "d3e6d4c19a7c9fe5"
  },
  {
   "metadata": {},
   "cell_type": "code",
   "outputs": [],
   "execution_count": null,
   "source": "",
   "id": "18b0b03589f4a720"
  },
  {
   "metadata": {},
   "cell_type": "code",
   "outputs": [],
   "execution_count": null,
   "source": "# %run ../solutions/01_12.py",
   "id": "7556fad13777699d"
  },
  {
   "metadata": {},
   "cell_type": "markdown",
   "source": "> Prova a elevare un numero decimale a una potenza questa volta. Calcola 3.1 al quadrato.",
   "id": "abef698d4bcc882e"
  },
  {
   "metadata": {},
   "cell_type": "code",
   "outputs": [],
   "execution_count": null,
   "source": "",
   "id": "dc3a54533d416f13"
  },
  {
   "metadata": {},
   "cell_type": "code",
   "outputs": [],
   "execution_count": null,
   "source": "# %run ../solutions/01_13.py",
   "id": "c203031b33e45fd5"
  },
  {
   "metadata": {},
   "cell_type": "markdown",
   "source": "> Ora prova a elevare a potenza un numero intero scritto come decimale. Calcola 5 al quadrato, dove 5 è scritto come decimale.",
   "id": "4dad49cc3c45b7c2"
  },
  {
   "metadata": {},
   "cell_type": "code",
   "outputs": [],
   "execution_count": null,
   "source": "",
   "id": "ec35d9f2f5bf7374"
  },
  {
   "metadata": {},
   "cell_type": "code",
   "outputs": [],
   "execution_count": null,
   "source": "# %run ../solutions/01_14.py",
   "id": "2762fb0f568bda6"
  },
  {
   "metadata": {},
   "cell_type": "markdown",
   "source": [
    "**Divisione e modulo**\n",
    "\n",
    "-   L'operatore di divisione è **`/`**.\n",
    "-   L'operatore di divisione intera è **`//`**. Restituisce il\n",
    "    \"quoziente\" della divisione, ossia quante volte un numero sta in un\n",
    "    altro. (\"Se 6 persone possono sedersi attorno a un tavolo e abbiamo\n",
    "    99 ospiti, di quanti tavoli avremo bisogno?\")\n",
    "-   L'operatore **`%`** è il\n",
    "    [modulo](https://en.wikipedia.org/wiki/Modulo_Operation), che\n",
    "    restituisce il resto della divisione.\n",
    "\n",
    "> Dividi 6 per 2."
   ],
   "id": "b9460ddfc14d4102"
  },
  {
   "metadata": {},
   "cell_type": "code",
   "outputs": [],
   "execution_count": null,
   "source": "",
   "id": "80ce53bd31508dc5"
  },
  {
   "metadata": {},
   "cell_type": "code",
   "outputs": [],
   "execution_count": null,
   "source": "# %run ../solutions/01_15.py",
   "id": "7fcd44a8e6cb7c8d"
  },
  {
   "metadata": {},
   "cell_type": "markdown",
   "source": "> Calcola la divisione intera di 6 per 2.",
   "id": "32ba2c540b1555e9"
  },
  {
   "metadata": {},
   "cell_type": "code",
   "outputs": [],
   "execution_count": null,
   "source": "",
   "id": "6c354b9e9ea9d38a"
  },
  {
   "metadata": {},
   "cell_type": "code",
   "outputs": [],
   "execution_count": null,
   "source": "# %run ../solutions/01_16.py",
   "id": "988caf66c1b1388e"
  },
  {
   "metadata": {},
   "cell_type": "markdown",
   "source": "> Dividi 19 per 5.",
   "id": "813b889c8c2f755e"
  },
  {
   "metadata": {},
   "cell_type": "code",
   "outputs": [],
   "execution_count": null,
   "source": "",
   "id": "307fa17071c3ab51"
  },
  {
   "metadata": {},
   "cell_type": "code",
   "outputs": [],
   "execution_count": null,
   "source": "# %run ../solutions/01_17.py",
   "id": "e6e2f2e3ef47ca63"
  },
  {
   "metadata": {},
   "cell_type": "markdown",
   "source": [
    "*Nota*: la divisione restituisce un decimale.\n",
    "\n",
    "**La divisione intera restituisce un intero: la parte non frazionaria.**\n",
    "\n",
    "> Calcola la divisione intera di 19 per 5."
   ],
   "id": "c66bb6bbc7a13f05"
  },
  {
   "metadata": {},
   "cell_type": "code",
   "outputs": [],
   "execution_count": null,
   "source": "",
   "id": "7d2a05258bba3951"
  },
  {
   "metadata": {},
   "cell_type": "code",
   "outputs": [],
   "execution_count": null,
   "source": "# %run ../solutions/01_18.py",
   "id": "2a8cadfdd7c9bd6e"
  },
  {
   "metadata": {},
   "cell_type": "markdown",
   "source": [
    "**Il modulo restituisce il resto della divisione**\n",
    "\n",
    "> Calcola 19 modulo 5."
   ],
   "id": "52b301aa9dde6a40"
  },
  {
   "metadata": {},
   "cell_type": "code",
   "outputs": [],
   "execution_count": null,
   "source": "",
   "id": "6bb45710321246ac"
  },
  {
   "metadata": {},
   "cell_type": "code",
   "outputs": [],
   "execution_count": null,
   "source": "# %run ../solutions/01_19.py",
   "id": "dcb8ffc639975326"
  },
  {
   "metadata": {},
   "cell_type": "markdown",
   "source": "**--\\> 19 = 3 \\* 5 + 4**",
   "id": "2f7c1decc1a88a97"
  },
  {
   "metadata": {},
   "cell_type": "markdown",
   "source": [
    "<div class=\"alert alert-block alert-warning\" style=\"padding: 0px; padding-left: 20px; padding-top: 5px;\"><h2 style=\"color: #301E40\">\n",
    "Ordine delle operazioni\n",
    "</h2><br>\n",
    "</div>\n",
    "\n",
    "L'ordine delle operazioni in Python rispetta le consuete regole della matematica (parentesi -\\> elevamento a potenza -\\> divisione/moltiplicazione -\\> addizione/sottrazione). **In caso di dubbi, usa le parentesi** per chiarire (a te e a chiunque stia leggendo il tuo codice) cosa stai cercando di fare."
   ],
   "id": "c237df5b75f0dbec"
  },
  {
   "metadata": {},
   "cell_type": "code",
   "outputs": [],
   "execution_count": null,
   "source": "5 + 6 * 10",
   "id": "c997a5ae135b801"
  },
  {
   "metadata": {},
   "cell_type": "code",
   "outputs": [],
   "execution_count": null,
   "source": "(5 + 6) * 10",
   "id": "11cd0f719e414088"
  },
  {
   "metadata": {},
   "cell_type": "markdown",
   "source": [
    "<div class=\"alert alert-block alert-warning\" style=\"padding: 0px; padding-left: 20px; padding-top: 5px;\"><h2 style=\"color: #301E40\">\n",
    "Booleani\n",
    "</h2><br>\n",
    "</div>\n",
    "\n",
    "I booleani sono variabili che assumono solo due valori: `True` e `False`. Python implementa in questo modo il concetto di \"verità\", con `True` e `False` che hanno rispettivamente valore numerico 1 e 0. Questi valori sono particolarmente importanti per i confronti, quindi impariamo anche un nuovo operatore:\n",
    "\n",
    "**`==`** è l'operatore di confronto, diverso da **`=`** che è l'operatore di assegnazione utilizzato per assegnare valori alle variabili."
   ],
   "id": "d8f9d35898313c77"
  },
  {
   "metadata": {},
   "cell_type": "code",
   "outputs": [],
   "execution_count": null,
   "source": "True == 1  # '==' è l'operatore di confronto, diverso da '=' che è l'operatore di assegnazione",
   "id": "347f97b93e475fb"
  },
  {
   "metadata": {},
   "cell_type": "code",
   "outputs": [],
   "execution_count": null,
   "source": "False * 3",
   "id": "2662058b6b76608c"
  },
  {
   "metadata": {},
   "cell_type": "markdown",
   "source": [
    "> Utilizzando l'operatore **`!=`** (diverso da), controlla che False sia\n",
    "> diverso da 2."
   ],
   "id": "bf27d3f218e570c6"
  },
  {
   "metadata": {},
   "cell_type": "code",
   "outputs": [],
   "execution_count": null,
   "source": "",
   "id": "dcc676944637689"
  },
  {
   "metadata": {},
   "cell_type": "code",
   "outputs": [],
   "execution_count": null,
   "source": "# %run ../solutions/01_20.py",
   "id": "fe2d23e4e9be13bf"
  },
  {
   "metadata": {},
   "cell_type": "markdown",
   "source": "> Controlla se la lunghezza del tuo nome è maggiore di 8.",
   "id": "db821afeba8e8aa5"
  },
  {
   "metadata": {},
   "cell_type": "code",
   "outputs": [],
   "execution_count": null,
   "source": "",
   "id": "e9eff4f666914daf"
  },
  {
   "metadata": {},
   "cell_type": "code",
   "outputs": [],
   "execution_count": null,
   "source": "# %run ../solutions/01_21.py",
   "id": "c46310e9630755c2"
  },
  {
   "metadata": {},
   "cell_type": "markdown",
   "source": [
    "Possiamo usare gli operatori logici `and` e `or` con i valori booleani\n",
    "in Python. Scrivili qui sotto e guarda come cambia il colore del testo:\n",
    "Python riconosce la parola chiave! Gli operatori logici possono essere\n",
    "utilizzati per concatenare più confronti. Tali operatori seguono la\n",
    "logica matematica booleana.\n",
    "\n",
    "| A     | B     | A and B | A or B |\n",
    "|:------|:------|:--------|:-------|\n",
    "| True  | True  | True    | True   |\n",
    "| True  | False | False   | True   |\n",
    "| False | True  | False   | True   |\n",
    "| False | False | False   | False  |\n",
    "\n",
    "> Controlla se la lunghezza del tuo nome è maggiore di 5 e la lunghezza\n",
    "> del nome del tuo tutor è inferiore a 7."
   ],
   "id": "c20b8432247fcdbd"
  },
  {
   "metadata": {},
   "cell_type": "code",
   "outputs": [],
   "execution_count": null,
   "source": "",
   "id": "865d70016cda1a97"
  },
  {
   "metadata": {},
   "cell_type": "code",
   "outputs": [],
   "execution_count": null,
   "source": "# %run ../solutions/01_22.py",
   "id": "cc412fa8c63d2476"
  },
  {
   "metadata": {},
   "cell_type": "markdown",
   "source": [
    "<div class=\"alert alert-block alert-warning\" style=\"padding: 0px; padding-left: 20px; padding-top: 5px;\"><h2 style=\"color: #301E40\">\n",
    "Liste\n",
    "</h2><br>\n",
    "</div>\n",
    "\n",
    "Una lista è un elenco di valori separati da virgole tra parentesi quadre.\n",
    "\n",
    "Gli elementi di una lista possono essere di diverso tipo."
   ],
   "id": "cd855fdcb1846f75"
  },
  {
   "metadata": {},
   "cell_type": "code",
   "outputs": [],
   "execution_count": null,
   "source": "lista_saluti = ['Hallo', 'Bonjour', 10, 'Hello', 'Ciao', False]",
   "id": "ff27369872c36588"
  },
  {
   "metadata": {},
   "cell_type": "markdown",
   "source": [
    "Possiamo accedere a un singolo valore utilizzando un indice e a diversi\n",
    "valori utilizzando un intervallo. Controlla la sezione precedente sulle\n",
    "sottostringhe per i dettagli sull'utilizzo di indici e intervalli.\n",
    "\n",
    "> Recupera il primo elemento della lista."
   ],
   "id": "630b5fe4234c0890"
  },
  {
   "metadata": {},
   "cell_type": "code",
   "outputs": [],
   "execution_count": null,
   "source": "",
   "id": "fbaf28dd2578ca06"
  },
  {
   "metadata": {},
   "cell_type": "code",
   "outputs": [],
   "execution_count": null,
   "source": "# %run ../solutions/01_23.py",
   "id": "f602b9d549d9899f"
  },
  {
   "metadata": {},
   "cell_type": "markdown",
   "source": [
    "Recupera tutti gli elementi della lista, a partire dal 4°.\n",
    "\n",
    "Nota che non è necessario inserire un numero dopo i due punti quando si\n",
    "desidera selezionare fino alla fine della lista.\n",
    "\n",
    "> Recupera gli elementi che iniziano da quello con indice 3 fino alla\n",
    "> fine della lista."
   ],
   "id": "5e6224f817fc9cc6"
  },
  {
   "metadata": {},
   "cell_type": "code",
   "outputs": [],
   "execution_count": null,
   "source": "",
   "id": "bb464b1baddb4b6d"
  },
  {
   "metadata": {},
   "cell_type": "code",
   "outputs": [],
   "execution_count": null,
   "source": "# %run ../solutions/01_24.py",
   "id": "530c93a509989f56"
  },
  {
   "metadata": {},
   "cell_type": "markdown",
   "source": [
    "**Recupera gli elementi della lista fino al 4°.**\n",
    "\n",
    "> Ottieni gli elementi dall'inizio della lista fino al valore con indice\n",
    "> 4 (l'indice 4 è escluso)."
   ],
   "id": "20d7472b76e93192"
  },
  {
   "metadata": {},
   "cell_type": "code",
   "outputs": [],
   "execution_count": null,
   "source": "",
   "id": "2e9930f4e6ad484d"
  },
  {
   "metadata": {},
   "cell_type": "code",
   "outputs": [],
   "execution_count": null,
   "source": "# %run ../solutions/01_25.py",
   "id": "d0317d21d89a0e8e"
  },
  {
   "metadata": {},
   "cell_type": "markdown",
   "source": [
    "**L'uso avanzato degli indici ci consente di impostare il modo in cui\n",
    "l'indice della lista verrà incrementato tra gli indici di inizio/fine\n",
    "selezionati.**  \n",
    "L'intervallo avrà quindi il seguente aspetto: \\[inizio:fine:passo\\]  \n",
    "Ad esempio, se vogliamo selezionare un elemento su tre in una lista,\n",
    "imposteremo il passo a 3.\n",
    "\n",
    "> Recupera tutti gli altri elementi dalla lista dei saluti"
   ],
   "id": "f7bddcc3281cd821"
  },
  {
   "metadata": {},
   "cell_type": "code",
   "outputs": [],
   "execution_count": null,
   "source": "",
   "id": "417bb466cb7d6ee7"
  },
  {
   "metadata": {},
   "cell_type": "code",
   "outputs": [],
   "execution_count": null,
   "source": "# %run ../solutions/01_26.py",
   "id": "2c0afce289107ae6"
  },
  {
   "metadata": {},
   "cell_type": "markdown",
   "source": [
    "**Possiamo aggiornare una lista riassegnando un valore selezionato\n",
    "utilizzando un indice.**  \n",
    "Ad esempio, possiamo sostituire False con 'Ave' all'interno di\n",
    "lista_saluti."
   ],
   "id": "d3815bb04d77a007"
  },
  {
   "metadata": {},
   "cell_type": "code",
   "outputs": [],
   "execution_count": null,
   "source": [
    "lista_saluti[-1] = 'Ave'\n",
    "print(lista_saluti)"
   ],
   "id": "2cbdeeee4ef27214"
  },
  {
   "metadata": {},
   "cell_type": "markdown",
   "source": [
    "> Sostituisci 10 con Hola in lista_saluti, quindi stampa lista_saluti\n",
    "> per controllare il risultato."
   ],
   "id": "6509008bef8c0602"
  },
  {
   "metadata": {},
   "cell_type": "code",
   "outputs": [],
   "execution_count": null,
   "source": "",
   "id": "79d81940de0e198a"
  },
  {
   "metadata": {},
   "cell_type": "code",
   "outputs": [],
   "execution_count": null,
   "source": "# %run ../solutions/01_27.py",
   "id": "cdbcc3f854e98f9e"
  },
  {
   "metadata": {},
   "cell_type": "markdown",
   "source": "Possiamo avere liste all'interno di una lista, queste sono spesso chiamate \"liste nidificate\":",
   "id": "3962818adcc3898a"
  },
  {
   "metadata": {},
   "cell_type": "code",
   "outputs": [],
   "execution_count": null,
   "source": "lista_di_liste = [[1, 2, 3], [4, 5]]",
   "id": "8629cb8ae24dde15"
  },
  {
   "metadata": {},
   "cell_type": "code",
   "outputs": [],
   "execution_count": null,
   "source": "lista_di_liste[0]  # accesso al primo elemento della lista, che è a sua volta una lista.",
   "id": "e8e023676c145981"
  },
  {
   "metadata": {},
   "cell_type": "code",
   "outputs": [],
   "execution_count": null,
   "source": "lista_di_liste[0][-1]  # accesso all'ultimo elemento della prima lista.",
   "id": "d952973b9b9e0b72"
  },
  {
   "metadata": {},
   "cell_type": "markdown",
   "source": "Possiamo concatenare liste utilizzando ' + '.",
   "id": "26de62a2528212ac"
  },
  {
   "metadata": {},
   "cell_type": "code",
   "outputs": [],
   "execution_count": null,
   "source": "[1, 2, 3] + [4, 5, 6]",
   "id": "5a81605f6b3961b6"
  },
  {
   "metadata": {},
   "cell_type": "markdown",
   "source": "Possiamo anche usare la moltiplicazione per ripetere i valori in una lista (funziona solo con numeri interi).",
   "id": "2e7b8b72da00d8d4"
  },
  {
   "metadata": {},
   "cell_type": "code",
   "outputs": [],
   "execution_count": null,
   "source": "['Ehi'] * 5",
   "id": "f02ed33963a0b9d1"
  },
  {
   "metadata": {},
   "cell_type": "markdown",
   "source": [
    "Possiamo anche usare `in` / `not in` con le liste.\n",
    "\n",
    "> Controlla se `10` è presente in `lista_saluti`."
   ],
   "id": "df407031ae83028b"
  },
  {
   "metadata": {},
   "cell_type": "code",
   "outputs": [],
   "execution_count": null,
   "source": "",
   "id": "fdd0cfcab0d57023"
  },
  {
   "metadata": {},
   "cell_type": "code",
   "outputs": [],
   "execution_count": null,
   "source": "# %run ../solutions/01_28.py",
   "id": "c5e249a8ecfaef00"
  },
  {
   "metadata": {},
   "cell_type": "markdown",
   "source": "> Controlla che 'Ole' non sia presente in lista_saluti.",
   "id": "d7d5065e12c5be1"
  },
  {
   "metadata": {},
   "cell_type": "code",
   "outputs": [],
   "execution_count": null,
   "source": "",
   "id": "13c764e911ca7cb6"
  },
  {
   "metadata": {},
   "cell_type": "code",
   "outputs": [],
   "execution_count": null,
   "source": "# %run ../solutions/01_29.py",
   "id": "4cf80794fb4955bb"
  },
  {
   "metadata": {},
   "cell_type": "markdown",
   "source": [
    "<div class=\"alert alert-block alert-warning\" style=\"padding: 0px; padding-left: 20px; padding-top: 5px;\"><h2 style=\"color: #301E40\">\n",
    "Funzioni integrate\n",
    "</h2><br>\n",
    "</div>\n",
    "\n",
    "Hai visto la tua prima funzione proprio all'inizio di questo notebook,\n",
    "ovvero `print(\"Ciao, mondo!'\")`. Le funzioni sono un modo per scrivere\n",
    "codice riutilizzabile. Nel caso precedente `print()` è il modo in cui\n",
    "Python stampa l'output a schermo. Tuttavia, ci sono molte altre funzioni\n",
    "utili fornite da Python, da altre librerie o che puoi scrivere in\n",
    "autonomia per evitarti di riscrivere parte del codice.\n",
    "\n",
    "Le funzioni che sono sempre disponibili in Python le puoi trovare qui:\n",
    "<https://docs.python.org/3/library/functions.html>\n",
    "\n",
    "> Stampa *'Ci siamo!'*."
   ],
   "id": "f740d2dd1412ffe3"
  },
  {
   "metadata": {},
   "cell_type": "code",
   "outputs": [],
   "execution_count": null,
   "source": "",
   "id": "486fb874b8657b6"
  },
  {
   "metadata": {},
   "cell_type": "code",
   "outputs": [],
   "execution_count": null,
   "source": "# %run ../solutions/01_30.py",
   "id": "c954ff9dfbd08d9c"
  },
  {
   "metadata": {},
   "cell_type": "markdown",
   "source": "> Calcola la lunghezza della variabile stringa `serpenti`.",
   "id": "83b43345d9b419b"
  },
  {
   "metadata": {},
   "cell_type": "code",
   "outputs": [],
   "execution_count": null,
   "source": "serpenti = \"🐍🐍🐍🐍🐍🐍🐍🐍🐍🐍🐍🐍🐍🐍🐍🐍🐍🐍🐍🐍🐍🐍🐍🐍🐍🐍🐍🐍🐍🐍🐍🐍🐍🐍🐍🐍🐍🐍🐍🐍🐍🐍\"",
   "id": "a5a3810fd434a8b7"
  },
  {
   "metadata": {},
   "cell_type": "code",
   "outputs": [],
   "execution_count": null,
   "source": "",
   "id": "fff4313a23d9885a"
  },
  {
   "metadata": {},
   "cell_type": "code",
   "outputs": [],
   "execution_count": null,
   "source": "# %run ../solutions/01_31.py",
   "id": "9e51466fb54f4e3a"
  },
  {
   "metadata": {},
   "cell_type": "markdown",
   "source": "> Calcola la lunghezza di lista_saluti.",
   "id": "c1c7dad08ad93d25"
  },
  {
   "metadata": {},
   "cell_type": "code",
   "outputs": [],
   "execution_count": null,
   "source": "",
   "id": "680774bce747ce3d"
  },
  {
   "metadata": {},
   "cell_type": "code",
   "outputs": [],
   "execution_count": null,
   "source": "# %run ../solutions/01_32.py",
   "id": "ab9fbeb58b5097cc"
  },
  {
   "metadata": {},
   "cell_type": "markdown",
   "source": "> Calcola il massimo tra 1, 2, 3, 4 e 5.",
   "id": "4d7161c37c34fd56"
  },
  {
   "metadata": {},
   "cell_type": "code",
   "outputs": [],
   "execution_count": null,
   "source": "",
   "id": "1d01bde2b1a59f4e"
  },
  {
   "metadata": {},
   "cell_type": "code",
   "outputs": [],
   "execution_count": null,
   "source": "# %run ../solutions/01_33.py",
   "id": "d7c70e146d3e925"
  },
  {
   "metadata": {},
   "cell_type": "markdown",
   "source": "> Arrotonda il numero 123,45 all'intero più vicino.",
   "id": "62dea52131034a38"
  },
  {
   "metadata": {},
   "cell_type": "code",
   "outputs": [],
   "execution_count": null,
   "source": "",
   "id": "d302b85742d56122"
  },
  {
   "metadata": {},
   "cell_type": "code",
   "outputs": [],
   "execution_count": null,
   "source": "# %run ../solutions/01_34.py",
   "id": "15e66cb02eb404df"
  },
  {
   "metadata": {},
   "cell_type": "markdown",
   "source": "> Arrotondare il numero 123,45 a 1 cifra decimale.",
   "id": "af92e5d63043c3f7"
  },
  {
   "metadata": {},
   "cell_type": "code",
   "outputs": [],
   "execution_count": null,
   "source": "",
   "id": "332e9ecedd52e465"
  },
  {
   "metadata": {},
   "cell_type": "code",
   "outputs": [],
   "execution_count": null,
   "source": "# %run ../solutions/01_35.py",
   "id": "7a788241d526dfb0"
  },
  {
   "metadata": {},
   "cell_type": "markdown",
   "source": [
    "<div class=\"alert alert-block alert-warning\" style=\"padding: 0px; padding-left: 20px; padding-top: 5px;\"><h2 style=\"color: #301E40\">\n",
    "Metodi\n",
    "</h2><br>\n",
    "</div>\n",
    "\n",
    "Un metodo è una funzione associata a un oggetto. Fondamentalmente, i\n",
    "metodi sono un modo per un oggetto di usare funzioni su se stesso.\n",
    "\n",
    "Ad esempio, possiamo trasformare la stringa `s` in maiuscolo utilizzando\n",
    "il metodo `.upper()`."
   ],
   "id": "7076017ba4ac75bf"
  },
  {
   "metadata": {},
   "cell_type": "code",
   "outputs": [],
   "execution_count": null,
   "source": "s.upper()",
   "id": "fcd9698ea3ef5226"
  },
  {
   "metadata": {},
   "cell_type": "markdown",
   "source": "> Utilizzando il metodo append, aggiungi \"Aloha\" in coda a lista_saluti.",
   "id": "f01459196d9925ec"
  },
  {
   "metadata": {},
   "cell_type": "code",
   "outputs": [],
   "execution_count": null,
   "source": "",
   "id": "97c111cab81a108b"
  },
  {
   "metadata": {},
   "cell_type": "code",
   "outputs": [],
   "execution_count": null,
   "source": "# %run ../solutions/01_36.py",
   "id": "1783f5e2da90f06a"
  },
  {
   "metadata": {},
   "cell_type": "markdown",
   "source": [
    "<div class=\"alert alert-block alert-warning\" style=\"padding: 0px; padding-left: 20px; padding-top: 5px;\"><h2 style=\"color: #301E40\">\n",
    "Importazione di moduli\n",
    "</h2><br>\n",
    "</div>\n",
    "\n",
    "È possibile importare moduli (codice Python che può definire funzioni,\n",
    "classi e variabili).\n",
    "\n",
    "Di solito, tutte le importazioni si scrivono all'inizio di un programma\n",
    "o notebook Python.\n",
    "\n",
    "**Un piccolo avvertimento**  \n",
    "Assicurati di fidarti dei pacchetti che installi!\n",
    "\n",
    "Chiediti:\n",
    "\n",
    "1.  Chi ha scritto questo codice?\n",
    "2.  Mi fido di dare al suo codice l'accesso al mio computer?\n",
    "3.  Il comando `pip install` in particolare può essere pericoloso:\n",
    "    chiunque può caricare qualcosa nell'indice dei pacchetti Python\n",
    "    (\"PyPI\" in breve), che è da dove `pip` esegue l'installazione.\n",
    "    Quindi fai molta attenzione, soprattutto perché anche un piccolo\n",
    "    errore di battitura può diventare un rischio per la sicurezza!\n",
    "4.  Il comando `conda install` è più protetto e come tale maggiormente\n",
    "    usato nelle aziende.\n",
    "\n",
    "> Dalla libreria **math**, importa **sqrt** per calcolare la radice\n",
    "> quadrata di **24336**."
   ],
   "id": "af05e8159759acb"
  },
  {
   "metadata": {},
   "cell_type": "code",
   "outputs": [],
   "execution_count": null,
   "source": "",
   "id": "92d0fb57713467ef"
  },
  {
   "metadata": {},
   "cell_type": "code",
   "outputs": [],
   "execution_count": null,
   "source": "# %run ../solutions/01_37.py",
   "id": "f923867570c920d"
  },
  {
   "metadata": {},
   "cell_type": "markdown",
   "source": [
    "I programmatori Python sono davvero pigri! (Oppure ossessionati dalla\n",
    "produttività, scegli tu!)\n",
    "\n",
    "Pertanto è possibile definire degli alias (nomi alternativi) per le\n",
    "importazioni. `np` è lungo due caratteri, mentre `numpy` è lungo cinque.\n",
    "Si hanno meno tasti da battere, specialmente quando si scrivono\n",
    "programmi lunghi.\n",
    "\n",
    "> Importa `numpy as np` e prova a eseguire **`np.sin(np.pi/4)`**."
   ],
   "id": "5d1cb71400c14c65"
  },
  {
   "metadata": {},
   "cell_type": "code",
   "outputs": [],
   "execution_count": null,
   "source": "",
   "id": "35fc160a5fafe1f7"
  },
  {
   "metadata": {},
   "cell_type": "code",
   "outputs": [],
   "execution_count": null,
   "source": "# %run ../solutions/01_38.py",
   "id": "1fc2daca7e0c0a96"
  },
  {
   "metadata": {},
   "cell_type": "markdown",
   "source": [
    " # 🎉 Congratulazioni, il Notebook 1 è terminato! 🎉\n",
    "\n",
    "Prenditi una meritata pausa, preparati una bevanda rilassante a tua\n",
    "scelta o fai uno spuntino, magari condividi una foto del tuo\n",
    "spuntino/bevanda nel canale #random, adoriamo vedere le foto di tutti i\n",
    "partecipanti in tutto il mondo. ☕️\n",
    "\n",
    "![](https://media0.giphy.com/media/3otPoS81loriI9sO8o/200.gif)"
   ],
   "id": "fe6e7577c5af3953"
  },
  {
   "metadata": {},
   "cell_type": "markdown",
   "source": "",
   "id": "1b2be57543a6d832"
  }
 ],
 "metadata": {
  "kernelspec": {
   "display_name": "Python 3",
   "language": "python",
   "name": "python3"
  },
  "language_info": {
   "codemirror_mode": {
    "name": "ipython",
    "version": 2
   },
   "file_extension": ".py",
   "mimetype": "text/x-python",
   "name": "python",
   "nbconvert_exporter": "python",
   "pygments_lexer": "ipython2",
   "version": "2.7.6"
  }
 },
 "nbformat": 4,
 "nbformat_minor": 5
}
