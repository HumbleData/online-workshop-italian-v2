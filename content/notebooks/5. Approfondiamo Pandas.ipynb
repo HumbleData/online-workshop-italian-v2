{
 "cells": [
  {
   "metadata": {},
   "cell_type": "markdown",
   "source": [
    "<div class=\"alert alert-block alert-info\" style=\"background-color: #301E40; border: 0px; -moz-border-radius: 10px; -webkit-border-radius: 10px;\">\n",
    "<br/><br/>\n",
    "<h1 style=\"font-size: 45px; color: white; align: center;\"><center>\n",
    "<img src=\"https://raw.githubusercontent.com/HumbleData/beginners-data-workshop/master/media/humble-data-logo-white-transparent.png\" width=\"250px\" /><br/><br/>\n",
    "Approfondiamo Pandas\n",
    "</center></h1>\n",
    "</div>\n",
    "\n",
    "***Nota***: questo notebook contiene celle con ***una sola*** soluzione.\n",
    "Ricorda che non esiste un'unica soluzione a un problema!\n",
    "\n",
    "Riconoscerai queste celle in quanto iniziano con **\\# %**.\n",
    "\n",
    "Se desideri vedere la soluzione, dovrai rimuovere il carattere **\\#**\n",
    "(cosa che puoi fare utilizzando **Ctrl** e **?**) e quindi eseguire la\n",
    "cella. Se desideri eseguire il codice della soluzione, dovrai eseguire\n",
    "nuovamente la cella.\n",
    "\n",
    "Per prima cosa, installiamo le librerie di cui abbiamo bisogno per\n",
    "questo notebook. Esegui la cella qui sotto:"
   ],
   "id": "f75ef9dbd979afd2"
  },
  {
   "metadata": {},
   "cell_type": "code",
   "outputs": [],
   "execution_count": null,
   "source": [
    "import pyodide_js\n",
    "\n",
    "# Install Matplotlib\n",
    "await pyodide_js.loadPackage(\"matplotlib\")\n",
    "\n",
    "# Install pandas\n",
    "await pyodide_js.loadPackage(\"pandas\")"
   ],
   "id": "8d9d8fef0bfab875"
  },
  {
   "metadata": {},
   "cell_type": "markdown",
   "source": [
    "---\n",
    "\n",
    "<div class=\"alert alert-block alert-warning\" style=\"padding: 0px; padding-left: 20px; padding-top: 5px;\"><h2 style=\"color: #301E40\">\n",
    "Esercizio\n",
    "</h2><br>\n",
    "</div>\n",
    "\n",
    "> 1.  Importa pandas (con la convenzione maggiormente utilizzata vista nel notebook 2).\n",
    "> 2.  Importa datetime.\n",
    "> 3.  Importa matplotlib (come mostrato nel notebook 3.1)."
   ],
   "id": "8d3c8b214e3fa1dc"
  },
  {
   "metadata": {},
   "cell_type": "code",
   "outputs": [],
   "execution_count": null,
   "source": "",
   "id": "f76f3f1e86a7e81e"
  },
  {
   "metadata": {},
   "cell_type": "code",
   "outputs": [],
   "execution_count": null,
   "source": "# %run ../solutions/05_01.py",
   "id": "17f6d092b851eea1"
  },
  {
   "metadata": {},
   "cell_type": "markdown",
   "source": [
    "> **ESERCIZIO BONUS**: aggiungi il comando magico per mostrare il\n",
    "> grafico in Jupyter.\n",
    "\n",
    "SUGGERIMENTO: inizia col carattere '%'."
   ],
   "id": "b1206661480f60c9"
  },
  {
   "metadata": {},
   "cell_type": "code",
   "outputs": [],
   "execution_count": null,
   "source": "",
   "id": "a552a2a48fd3b84c"
  },
  {
   "metadata": {},
   "cell_type": "markdown",
   "source": [
    "In questo notebook utilizzeremo i dati forniti dal [Governo del Regno\n",
    "Unito](https://data.gov.uk/dataset/a59198d9-2e24-4816-be1b-c3a1efa02dda/better-training-for-safer-food).\n",
    "I dati sono forniti ai sensi della [Open Government\n",
    "License](http://www.nationalarchives.gov.uk/doc/open-government-licence/version/3/).\n",
    "\n",
    "> Carica i dati dell'anno 2014 e assegnali a df_2014 (percorso: '../data/food_training/training_2014.csv')"
   ],
   "id": "7eb2db79edae7119"
  },
  {
   "metadata": {},
   "cell_type": "code",
   "outputs": [],
   "execution_count": null,
   "source": "",
   "id": "570ade00086d7231"
  },
  {
   "metadata": {},
   "cell_type": "code",
   "outputs": [],
   "execution_count": null,
   "source": "# %run ../solutions/05_02.py",
   "id": "3cf2cd4c7a5ba1c5"
  },
  {
   "metadata": {},
   "cell_type": "markdown",
   "source": "> Dai un'occhiata alle prime righe di df_2014",
   "id": "ef60c326e8fa48d6"
  },
  {
   "metadata": {},
   "cell_type": "code",
   "outputs": [],
   "execution_count": null,
   "source": "",
   "id": "64a871bd5bc0c49f"
  },
  {
   "metadata": {},
   "cell_type": "code",
   "outputs": [],
   "execution_count": null,
   "source": "# %run ../solutions/05_03.py",
   "id": "586185f43968c308"
  },
  {
   "metadata": {},
   "cell_type": "markdown",
   "source": [
    "Avrai notato che l'intestazione non è nel posto giusto.  \n",
    "Se dai un'occhiata alla documentazione, vedrai che il parametro *header*\n",
    "del metodo `read_csv` è impostato su *infer*. Di conseguenza, il\n",
    "software supporrà che l'intestazione sia la prima riga, che ha l'indice\n",
    "*0*.\n",
    "\n",
    "> Carica i dati dell'anno 2014 utilizzando il parametro header e\n",
    "> assegnali a df_2014 (che verrà sovrascritto)"
   ],
   "id": "b87c5122828fde44"
  },
  {
   "metadata": {},
   "cell_type": "code",
   "outputs": [],
   "execution_count": null,
   "source": "",
   "id": "c8716c5f753d2fef"
  },
  {
   "metadata": {},
   "cell_type": "code",
   "outputs": [],
   "execution_count": null,
   "source": "# %run ../solutions/05_04.py",
   "id": "ade24c3ad0b03049"
  },
  {
   "metadata": {},
   "cell_type": "markdown",
   "source": "> Dai un'occhiata alle prime righe di df_2014. Meglio, non è vero?",
   "id": "56a21a98d382ccf4"
  },
  {
   "metadata": {},
   "cell_type": "code",
   "outputs": [],
   "execution_count": null,
   "source": "",
   "id": "baf6405fce13f0f0"
  },
  {
   "metadata": {},
   "cell_type": "code",
   "outputs": [],
   "execution_count": null,
   "source": "# %run ../solutions/05_05.py",
   "id": "83b6e030ac570d15"
  },
  {
   "metadata": {},
   "cell_type": "markdown",
   "source": [
    "> Carica i dati degli anni 2015 e 2016 e assegnali a df_2015 e df_2016\n",
    "> (non dimenticare il parametro!)"
   ],
   "id": "f46a1052eab89134"
  },
  {
   "metadata": {},
   "cell_type": "code",
   "outputs": [],
   "execution_count": null,
   "source": "",
   "id": "73482d5fe5c2451b"
  },
  {
   "metadata": {},
   "cell_type": "code",
   "outputs": [],
   "execution_count": null,
   "source": "# %run ../solutions/05_06.py",
   "id": "8d26306511dccefc"
  },
  {
   "metadata": {},
   "cell_type": "markdown",
   "source": [
    "---\n",
    "\n",
    "<div class=\"alert alert-block alert-warning\" style=\"padding: 0px; padding-left: 20px; padding-top: 5px;\"><h2 style=\"color: #301E40\">\n",
    "Concatenazioni\n",
    "</h2><br>\n",
    "</div>\n",
    "\n",
    "Pandas dispone di un'ottima documentazione sulle operazioni di [fusione\n",
    "(merge), unione (join) e concatenazione\n",
    "(concat)](https://pandas.pydata.org/pandas-docs/stable/user_guide/merging.html).\n",
    "\n",
    "> Sfruttando la documentazione, concatena i 3 dataframe in uno,\n",
    "> denominato df."
   ],
   "id": "2cc87755c6c972cd"
  },
  {
   "metadata": {},
   "cell_type": "code",
   "outputs": [],
   "execution_count": null,
   "source": "",
   "id": "c90b2336574be30b"
  },
  {
   "metadata": {},
   "cell_type": "code",
   "outputs": [],
   "execution_count": null,
   "source": "# %run ../solutions/05_07.py",
   "id": "f2b5eaa3a20f0bcf"
  },
  {
   "metadata": {},
   "cell_type": "markdown",
   "source": "> Controlla la forma di df",
   "id": "518ecb29a82724b6"
  },
  {
   "metadata": {},
   "cell_type": "code",
   "outputs": [],
   "execution_count": null,
   "source": "",
   "id": "c87beeadbfbf693e"
  },
  {
   "metadata": {},
   "cell_type": "code",
   "outputs": [],
   "execution_count": null,
   "source": "# %run ../solutions/05_08.py",
   "id": "5026e996127114f5"
  },
  {
   "metadata": {},
   "cell_type": "markdown",
   "source": "> Guarda gli indici di df usando l'attributo index.",
   "id": "645aed2a4a49ed51"
  },
  {
   "metadata": {},
   "cell_type": "code",
   "outputs": [],
   "execution_count": null,
   "source": "",
   "id": "64d9f48392ea2e84"
  },
  {
   "metadata": {},
   "cell_type": "code",
   "outputs": [],
   "execution_count": null,
   "source": "# %run ../solutions/05_09.py",
   "id": "4c7352586c4d2b0b"
  },
  {
   "metadata": {},
   "cell_type": "markdown",
   "source": [
    "Possiamo vedere che l'indice non va da 0 a 265 con un passo di 1...\n",
    "\n",
    "> Cancella l'indice esistente e reimpostalo utilizzando il metodo\n",
    "> ***reset_index***.  \n",
    "> Controlla l'indice di df."
   ],
   "id": "c323c3629a575bf7"
  },
  {
   "metadata": {},
   "cell_type": "code",
   "outputs": [],
   "execution_count": null,
   "source": "",
   "id": "e1bd4ad5a9989d38"
  },
  {
   "metadata": {},
   "cell_type": "code",
   "outputs": [],
   "execution_count": null,
   "source": "# %run ../solutions/05_10.py",
   "id": "7b9089ec60615977"
  },
  {
   "metadata": {},
   "cell_type": "markdown",
   "source": [
    "---\n",
    "\n",
    "<div class=\"alert alert-block alert-warning\" style=\"padding: 0px; padding-left: 20px; padding-top: 5px;\"><h2 style=\"color: #301E40\">\n",
    "Eliminazione di colonne\n",
    "</h2><br>\n",
    "</div>\n",
    "\n",
    "> Mostra le informazioni relative alle colonne di df."
   ],
   "id": "e263c2ba07d8b8de"
  },
  {
   "metadata": {},
   "cell_type": "code",
   "outputs": [],
   "execution_count": null,
   "source": "",
   "id": "e182574038718012"
  },
  {
   "metadata": {},
   "cell_type": "code",
   "outputs": [],
   "execution_count": null,
   "source": "# %run ../solutions/05_11.py",
   "id": "2fef8bad463c33b"
  },
  {
   "metadata": {},
   "cell_type": "markdown",
   "source": [
    "Possiamo vedere che le ultime due colonne sono completamente vuote,\n",
    "quindi le elimineremo.\n",
    "\n",
    "> Consulta la guida per il metodo drop (se preferisci puoi cercare la\n",
    "> documentazione su internet)."
   ],
   "id": "87182bc5b5a0c13c"
  },
  {
   "metadata": {},
   "cell_type": "code",
   "outputs": [],
   "execution_count": null,
   "source": "",
   "id": "bf0d33bfc3017eb9"
  },
  {
   "metadata": {},
   "cell_type": "code",
   "outputs": [],
   "execution_count": null,
   "source": "# %run ../solutions/05_12.py",
   "id": "4250968d1e514439"
  },
  {
   "metadata": {},
   "cell_type": "markdown",
   "source": [
    "Puoi vedere che il valore predefinito per *axis* è *0*. In questo caso,\n",
    "il metodo esaminerà le righe (ovvero *asse 0*) del dataframe.  \n",
    "Nel nostro caso, vogliamo eliminare le colonne (ossia *asse 1*).\n",
    "\n",
    "> Elimina le ultime due colonne di df.  \n",
    "> labels: fornisce un elenco con i nomi delle colonne  \n",
    "> Non dimenticare l'asse!"
   ],
   "id": "72252d58f9db093b"
  },
  {
   "metadata": {},
   "cell_type": "code",
   "outputs": [],
   "execution_count": null,
   "source": "",
   "id": "89d2d80b4c59098d"
  },
  {
   "metadata": {},
   "cell_type": "code",
   "outputs": [],
   "execution_count": null,
   "source": "# %run ../solutions/05_13.py",
   "id": "d5811c4c968f2692"
  },
  {
   "metadata": {},
   "cell_type": "code",
   "outputs": [],
   "execution_count": null,
   "source": "df.head()",
   "id": "8d19dc790175fb30"
  },
  {
   "metadata": {},
   "cell_type": "markdown",
   "source": [
    "---\n",
    "\n",
    "<div class=\"alert alert-block alert-warning\" style=\"padding: 0px; padding-left: 20px; padding-top: 5px;\"><h2 style=\"color: #301E40\">\n",
    "Dati testuali\n",
    "</h2><br>\n",
    "</div>\n",
    "\n",
    "Per [lavorare con i dati\n",
    "testuali](https://pandas.pydata.org/pandas-docs/version/0.23.4/text.html),\n",
    "dovremo utilizzare l'attributo ***str*** (che sta per \"stringa\") per\n",
    "accedere ai metodi (ad esempio df\\['col'\\].str.replace('-', ' ')).  \n",
    "Dovremo utilizzare questo attributo in diversi casi, ma prima\n",
    "controlliamo la colonna Location.\n",
    "\n",
    "> Visualizza i valori univoci della colonna Location."
   ],
   "id": "be657b6124170df4"
  },
  {
   "metadata": {},
   "cell_type": "code",
   "outputs": [],
   "execution_count": null,
   "source": "",
   "id": "f906371e7781005"
  },
  {
   "metadata": {},
   "cell_type": "code",
   "outputs": [],
   "execution_count": null,
   "source": "# %run ../solutions/05_14.py",
   "id": "52c51fa57ca46dba"
  },
  {
   "metadata": {},
   "cell_type": "markdown",
   "source": [
    "Puoi vedere che le città e i paesi sono separati da un punto e virgola\n",
    "(anche se mancano alcuni valori). Divideremo la colonna ***Location***.\n",
    "\n",
    "> Prova a dividere (in inglese \"split\") la colonna ***Location*** in\n",
    "> base al punto e virgola.  \n",
    "> Puoi dare un'occhiata al\n",
    "> [link](https://pandas.pydata.org/pandas-docs/version/0.23.4/text.html)\n",
    "> fornito in precedenza o alla\n",
    "> [documentazione](https://pandas.pydata.org/pandas-docs/stable/reference/api/pandas.Series.str.split.html)."
   ],
   "id": "1d2b8b656d0ff45f"
  },
  {
   "metadata": {},
   "cell_type": "code",
   "outputs": [],
   "execution_count": null,
   "source": "",
   "id": "724bd86554907459"
  },
  {
   "metadata": {},
   "cell_type": "code",
   "outputs": [],
   "execution_count": null,
   "source": "# %run ../solutions/05_15.py",
   "id": "c691f9ef0a763e38"
  },
  {
   "metadata": {},
   "cell_type": "markdown",
   "source": [
    "Ti verrà restituito un elenco con gli elementi che erano prima e dopo il\n",
    "punto e virgola.\n",
    "\n",
    "> Prova di nuovo a dividere la colonna ***Location***, ma espandi i\n",
    "> risultati per visualizzarli in colonne diverse."
   ],
   "id": "9119df8e7d3d289a"
  },
  {
   "metadata": {},
   "cell_type": "code",
   "outputs": [],
   "execution_count": null,
   "source": "",
   "id": "4142fe9cb2276e73"
  },
  {
   "metadata": {},
   "cell_type": "code",
   "outputs": [],
   "execution_count": null,
   "source": "# %run ../solutions/05_16.py",
   "id": "d91befcc53f6c79a"
  },
  {
   "metadata": {},
   "cell_type": "markdown",
   "source": [
    "> Crea una colonna ***city*** e una ***country*** in df utilizzando\n",
    "> questa suddivisione."
   ],
   "id": "f35385b2379fe12f"
  },
  {
   "metadata": {},
   "cell_type": "code",
   "outputs": [],
   "execution_count": null,
   "source": "",
   "id": "ed95332d235faa8d"
  },
  {
   "metadata": {},
   "cell_type": "code",
   "outputs": [],
   "execution_count": null,
   "source": "# %run ../solutions/05_17.py",
   "id": "e858c1be38c6f20f"
  },
  {
   "metadata": {},
   "cell_type": "markdown",
   "source": "> Elimina la colonna ***Location***.",
   "id": "d190e062e0018bbf"
  },
  {
   "metadata": {},
   "cell_type": "code",
   "outputs": [],
   "execution_count": null,
   "source": "",
   "id": "d80f30930a7c53b7"
  },
  {
   "metadata": {},
   "cell_type": "code",
   "outputs": [],
   "execution_count": null,
   "source": "# %run ../solutions/05_18.py",
   "id": "324c935aa40a8629"
  },
  {
   "metadata": {},
   "cell_type": "code",
   "outputs": [],
   "execution_count": null,
   "source": "df.head()",
   "id": "5aadfd425d40d8c2"
  },
  {
   "metadata": {},
   "cell_type": "markdown",
   "source": "> Calcola il numero di valori univoci nella colonna ***country***.",
   "id": "2007b51604c6cff2"
  },
  {
   "metadata": {},
   "cell_type": "code",
   "outputs": [],
   "execution_count": null,
   "source": "",
   "id": "be322d86c6ca580f"
  },
  {
   "metadata": {},
   "cell_type": "code",
   "outputs": [],
   "execution_count": null,
   "source": "# %run ../solutions/05_19.py",
   "id": "f2e48d5080af5b48"
  },
  {
   "metadata": {},
   "cell_type": "markdown",
   "source": "> Controlla il conteggio di ciascun valore univoco nella colonna ***country***.",
   "id": "6b694c19a3a3b2bc"
  },
  {
   "metadata": {},
   "cell_type": "code",
   "outputs": [],
   "execution_count": null,
   "source": "",
   "id": "5a9caa0ee6f75a03"
  },
  {
   "metadata": {},
   "cell_type": "code",
   "outputs": [],
   "execution_count": null,
   "source": "# %run ../solutions/05_20.py",
   "id": "2587e21532005261"
  },
  {
   "metadata": {},
   "cell_type": "markdown",
   "source": [
    "Possiamo vedere che alcuni paesi (ad esempio l'Italia) sembrano apparire\n",
    "più volte con alcune variazioni.\n",
    "\n",
    "> Usa il metodo strip per rimuovere i (potenziali) spazi extra\n",
    "> all'inizio e alla fine delle città e dei paesi."
   ],
   "id": "9f833013504dbc52"
  },
  {
   "metadata": {},
   "cell_type": "code",
   "outputs": [],
   "execution_count": null,
   "source": "",
   "id": "2573ff1a0b95548a"
  },
  {
   "metadata": {},
   "cell_type": "code",
   "outputs": [],
   "execution_count": null,
   "source": "# %run ../solutions/05_21.py",
   "id": "14f4638283cdb6ff"
  },
  {
   "metadata": {},
   "cell_type": "markdown",
   "source": "> Controlla di nuovo il numero di valori univoci nella colonna country",
   "id": "cc87a619a1f36f55"
  },
  {
   "metadata": {},
   "cell_type": "code",
   "outputs": [],
   "execution_count": null,
   "source": "",
   "id": "db49cca3b323f58a"
  },
  {
   "metadata": {},
   "cell_type": "code",
   "outputs": [],
   "execution_count": null,
   "source": "# %run ../solutions/05_22.py",
   "id": "e39b63e7849b46c1"
  },
  {
   "metadata": {},
   "cell_type": "markdown",
   "source": [
    "> Dai un'occhiata alle righe in cui ***country*** è il Portogallo (in\n",
    "> inglese \"Portugal\").  \n",
    "> Cosa noti riguardo la colonna ***city***?"
   ],
   "id": "abb37f3ec6105826"
  },
  {
   "metadata": {},
   "cell_type": "code",
   "outputs": [],
   "execution_count": null,
   "source": "",
   "id": "ebd0d61b5bb03336"
  },
  {
   "metadata": {},
   "cell_type": "code",
   "outputs": [],
   "execution_count": null,
   "source": "# %run ../solutions/05_23.py",
   "id": "b9936b71d8c5e956"
  },
  {
   "metadata": {},
   "cell_type": "markdown",
   "source": [
    "> Trasforma la colonna ***city*** in minuscolo (non dimenticare di\n",
    "> riassegnarla alla colonna **city**)."
   ],
   "id": "bbcc449139c0e73e"
  },
  {
   "metadata": {},
   "cell_type": "code",
   "outputs": [],
   "execution_count": null,
   "source": "",
   "id": "c2ecb9393a3d0799"
  },
  {
   "metadata": {},
   "cell_type": "code",
   "outputs": [],
   "execution_count": null,
   "source": "# %run ../solutions/05_24.py",
   "id": "9d5b25d45f7dea30"
  },
  {
   "metadata": {},
   "cell_type": "markdown",
   "source": "> Dai un'occhiata alle righe in cui ***city*** contiene ' ***/*** '.",
   "id": "71cf26d70aaa4402"
  },
  {
   "metadata": {},
   "cell_type": "code",
   "outputs": [],
   "execution_count": null,
   "source": "",
   "id": "ef1abc8cb1a2af04"
  },
  {
   "metadata": {},
   "cell_type": "code",
   "outputs": [],
   "execution_count": null,
   "source": "# %run ../solutions/05_25.py",
   "id": "bf72bd7efcf4f010"
  },
  {
   "metadata": {},
   "cell_type": "markdown",
   "source": [
    "Decidiamo di voler avere solo una città per ogni riga. Possiamo decidere\n",
    "di mantenere solo la città prima della barra.\n",
    "\n",
    "> Sostituisci la stringa con una barra (ad esempio ***/***), con la\n",
    "> città che appare prima della barra nella colonna ***city***.  \n",
    "> Dovrai utilizzare un'[espressione\n",
    "> regolare](https://docs.python.org/3/howto/regex.html#repeating-things).  \n",
    "> Puoi testare la tua espressione regolare [qui](https://regex101.com)."
   ],
   "id": "4702b3db6e61e2c4"
  },
  {
   "metadata": {},
   "cell_type": "code",
   "outputs": [],
   "execution_count": null,
   "source": "",
   "id": "1a7bc6f0447abe9f"
  },
  {
   "metadata": {},
   "cell_type": "code",
   "outputs": [],
   "execution_count": null,
   "source": "# %run ../solutions/05_26.py",
   "id": "e251e65f2a940eab"
  },
  {
   "metadata": {},
   "cell_type": "markdown",
   "source": [
    "---\n",
    "\n",
    "<div class=\"alert alert-block alert-warning\" style=\"padding: 0px; padding-left: 20px; padding-top: 5px;\"><h2 style=\"color: #301E40\">\n",
    "Mappe\n",
    "</h2><br>\n",
    "</div>"
   ],
   "id": "9f395a8d6085eb71"
  },
  {
   "metadata": {},
   "cell_type": "code",
   "outputs": [],
   "execution_count": null,
   "source": "df['country'].value_counts()",
   "id": "7ffb7408cb3332ad"
  },
  {
   "metadata": {},
   "cell_type": "markdown",
   "source": [
    "Abbiamo visto che in alcuni paesi erano era riportato il loro codice\n",
    "paese, mentre in altri vi era il loro nome. Allineiamoli tutti nello\n",
    "stesso formato.  \n",
    "Possiamo farlo mappando un dizionario su una colonna. Sostituirà quindi\n",
    "la ***chiave*** con il corrispondente ***valore***.\n",
    "\n",
    "> Completa il codice seguente per sostituire i codici dei paesi con il\n",
    "> nome dei paesi.  \n",
    "> Tieni presente che utilizziamo una maschera poiché vogliamo sostituire\n",
    "> solo alcuni valori della serie."
   ],
   "id": "38fe0920d77addff"
  },
  {
   "metadata": {},
   "cell_type": "code",
   "outputs": [],
   "execution_count": null,
   "source": [
    "diz_codici = {'BG':'Bulgaria', 'CZ':'Czech Republic', 'IT':'Italy', 'GR':'Greece', 'SI':'Slovenia', 'UK':'United Kingdom'}\n",
    "\n",
    "df.loc[country_in_codes, \"country\"] ="
   ],
   "id": "b72a94fb135525dd"
  },
  {
   "metadata": {
    "ExecuteTime": {
     "end_time": "2024-05-14T13:57:56.172357Z",
     "start_time": "2024-05-14T13:57:56.168948Z"
    }
   },
   "cell_type": "code",
   "source": "# %run ../solutions/05_27.py",
   "id": "f72304e115f87f40",
   "outputs": [],
   "execution_count": 2
  },
  {
   "metadata": {},
   "cell_type": "code",
   "outputs": [],
   "execution_count": null,
   "source": "df['country'].value_counts(dropna=False)",
   "id": "b7e08759bf3f7642"
  },
  {
   "metadata": {},
   "cell_type": "markdown",
   "source": [
    "Alcuni valori di città sono sconosciuti.\n",
    "\n",
    "> Dai un'occhiata ai valori di ***country*** in cui ***city*** è\n",
    "> ***unknown*** ."
   ],
   "id": "136ca5022707adae"
  },
  {
   "metadata": {},
   "cell_type": "code",
   "outputs": [],
   "execution_count": null,
   "source": "",
   "id": "d38820e1e13f7cc0"
  },
  {
   "metadata": {},
   "cell_type": "code",
   "outputs": [],
   "execution_count": null,
   "source": "# %run ../solutions/05_28.py",
   "id": "261db35651faea5f"
  },
  {
   "metadata": {},
   "cell_type": "markdown",
   "source": [
    "> Completa il codice seguente per sostituire il valore ***unknown***\n",
    "> nella colonna ***city*** con la capitale della corrispondente\n",
    "> ***country***."
   ],
   "id": "c8184bc3f1491284"
  },
  {
   "metadata": {},
   "cell_type": "code",
   "outputs": [],
   "execution_count": null,
   "source": [
    "diz_capitali = {'Denmark':'copenhague', 'France':'paris', 'Italy':'rome', 'Spain':'madrid', 'United Kingdom':'london'}\n",
    "\n",
    "df.loc[df['city'] == 'unknown', 'city'] = df.loc[df['city'] == 'unknown', 'country']"
   ],
   "id": "ffd6601d4430971c"
  },
  {
   "metadata": {},
   "cell_type": "code",
   "outputs": [],
   "execution_count": null,
   "source": "# %run ../solutions/05_29.py",
   "id": "e13a747363eced74"
  },
  {
   "metadata": {},
   "cell_type": "markdown",
   "source": [
    "Mancano molti paesi, ma possiamo riempirli utilizzando le città.  \n",
    "Possiamo creare un dizionario delle città e dei paesi corrispondenti\n",
    "utilizzando le righe in cui ***country*** non è nullo."
   ],
   "id": "d3b36f9ef592215e"
  },
  {
   "metadata": {},
   "cell_type": "code",
   "outputs": [],
   "execution_count": null,
   "source": "diz_città = df.loc[df['country'].notnull(), ['city', 'country']].set_index('city').to_dict()['country']",
   "id": "99fdaf506fc18ec2"
  },
  {
   "metadata": {},
   "cell_type": "markdown",
   "source": [
    "Ora controlliamo se tutte le città di cui abbiamo bisogno sono presenti\n",
    "nel nostro dizionario.\n",
    "\n",
    "> Sottraendo le chiavi del dizionario dall'insieme dei valori\n",
    "> ***city***, scopri quali città si trovano nella colonna ***city*** ma\n",
    "> non nelle ***chiavi*** del dizionario."
   ],
   "id": "969954a4ef48db17"
  },
  {
   "metadata": {},
   "cell_type": "code",
   "outputs": [],
   "execution_count": null,
   "source": "",
   "id": "36d97ad66f845bc6"
  },
  {
   "metadata": {},
   "cell_type": "code",
   "outputs": [],
   "execution_count": null,
   "source": "# %run ../solutions/05_30.py",
   "id": "f5b13507c165f40"
  },
  {
   "metadata": {},
   "cell_type": "markdown",
   "source": [
    "> Sapendo che Bristol si trova nel Regno Unito, Göteborg in Svezia, Graz\n",
    "> in Austria, Lione in Francia, Murcia in Spagna e Parma in Italia,\n",
    "> aggiungi qualche coppia chiave-valore al dizionario ***diz_città***.  \n",
    "> Puoi aggiungere ciascuna coppia chiave-valore oppure\n",
    "> [aggiornare](https://python-reference.readthedocs.io/en/latest/docs/dict/update.html)\n",
    "> diz_città con un altro dizionario."
   ],
   "id": "b88b5113f8157d48"
  },
  {
   "metadata": {},
   "cell_type": "code",
   "outputs": [],
   "execution_count": null,
   "source": "",
   "id": "f6959c968e077ae2"
  },
  {
   "metadata": {},
   "cell_type": "code",
   "outputs": [],
   "execution_count": null,
   "source": "# %run ../solutions/05_31.py",
   "id": "4da07dc4c340c7e"
  },
  {
   "metadata": {},
   "cell_type": "markdown",
   "source": "> Usa questo dizionario per inserire alcuni dei paesi mancanti.",
   "id": "7c073c4d60a369b3"
  },
  {
   "metadata": {},
   "cell_type": "code",
   "outputs": [],
   "execution_count": null,
   "source": "",
   "id": "8c34844641d92bef"
  },
  {
   "metadata": {},
   "cell_type": "code",
   "outputs": [],
   "execution_count": null,
   "source": "# %run ../solutions/05_32.py",
   "id": "91e17edc21247928"
  },
  {
   "metadata": {},
   "cell_type": "markdown",
   "source": [
    "> Ottieni il conteggio dei diversi valori della colonna ***country***\n",
    "> mostrando anche i valori NaN."
   ],
   "id": "9d52a82b70e8f26f"
  },
  {
   "metadata": {},
   "cell_type": "code",
   "outputs": [],
   "execution_count": null,
   "source": "",
   "id": "cb71005ba7fb7432"
  },
  {
   "metadata": {},
   "cell_type": "code",
   "outputs": [],
   "execution_count": null,
   "source": "# %run ../solutions/05_33.py",
   "id": "8a5e5eba4da618cb"
  },
  {
   "metadata": {},
   "cell_type": "markdown",
   "source": "Nota che ci sono solo 4 valori NaN. Corrispondono a dati sporchi che potremmo correggere \"manualmente\". Scrivi del codice qui sotto e provalo se ne hai voglia!'",
   "id": "24fe36d9efb0ac6"
  },
  {
   "metadata": {},
   "cell_type": "markdown",
   "source": [
    "---\n",
    "\n",
    "<div class=\"alert alert-block alert-warning\" style=\"padding: 0px; padding-left: 20px; padding-top: 5px;\"><h2 style=\"color: #301E40\">\n",
    "Applicazione\n",
    "</h2><br>\n",
    "</div>\n",
    "\n",
    "> Scrivi una funzione che restituisca ***single*** se il valore passato\n",
    "> è 1 e ***single*** altrimenti."
   ],
   "id": "a2a5d8e31443821b"
  },
  {
   "metadata": {
    "ExecuteTime": {
     "end_time": "2024-05-14T09:26:40.288702Z",
     "start_time": "2024-05-14T09:26:40.286893Z"
    }
   },
   "cell_type": "code",
   "source": "",
   "id": "2955755459152edc",
   "outputs": [],
   "execution_count": null
  },
  {
   "metadata": {},
   "cell_type": "code",
   "outputs": [],
   "execution_count": null,
   "source": "# %run ../solutions/05_34.py",
   "id": "1849ba125f0dd2f0"
  },
  {
   "metadata": {},
   "cell_type": "markdown",
   "source": "> Applica questa funzione alla colonna ***Attendees***.",
   "id": "a2d290f4fbb3b4e8"
  },
  {
   "metadata": {},
   "cell_type": "code",
   "outputs": [],
   "execution_count": null,
   "source": "",
   "id": "2f2a4a521d7347dd"
  },
  {
   "metadata": {},
   "cell_type": "code",
   "outputs": [],
   "execution_count": null,
   "source": "# %run ../solutions/05_35.py",
   "id": "3b7d7aaff468f83a"
  },
  {
   "metadata": {},
   "cell_type": "markdown",
   "source": [
    "---\n",
    "\n",
    "<div class=\"alert alert-block alert-warning\" style=\"padding: 0px; padding-left: 20px; padding-top: 5px;\"><h2 style=\"color: #301E40\">\n",
    "Unione\n",
    "</h2><br>\n",
    "</div>\n",
    "\n",
    "> Carica i dati sulle lingue e assegnali alle lingue (percorso:\n",
    "> '../data/food_training/languages.csv')"
   ],
   "id": "e87e839a5029e398"
  },
  {
   "metadata": {},
   "cell_type": "code",
   "outputs": [],
   "execution_count": null,
   "source": "",
   "id": "c0b5a5089ef7d1fb"
  },
  {
   "metadata": {},
   "cell_type": "code",
   "outputs": [],
   "execution_count": null,
   "source": "# %run ../solutions/05_36.py",
   "id": "58f5846ac49dc2f1"
  },
  {
   "metadata": {},
   "cell_type": "code",
   "outputs": [],
   "execution_count": null,
   "source": "languages.head()",
   "id": "1e3df6bb4fd42c2a"
  },
  {
   "metadata": {},
   "cell_type": "markdown",
   "source": [
    "> Unisci df e lingue per aggiungere le informazioni sulla lingua a df.  \n",
    "> Puoi controllare la pagina su [fusione (merge), unione (join) e\n",
    "> concatenazione\n",
    "> (concat)](https://pandas.pydata.org/pandas-docs/stable/user_guide/merging.html)\n",
    "> o la\n",
    "> [documentazione](https://pandas.pydata.org/pandas-docs/stable/reference/api/pandas.DataFrame.merge.html)\n",
    "> sul metodo merge."
   ],
   "id": "fa323d8a561b7"
  },
  {
   "metadata": {},
   "cell_type": "code",
   "outputs": [],
   "execution_count": null,
   "source": "",
   "id": "aef81aef9468341d"
  },
  {
   "metadata": {},
   "cell_type": "code",
   "outputs": [],
   "execution_count": null,
   "source": "# %run ../solutions/05_37.py",
   "id": "e16ffb951d0d7962"
  },
  {
   "metadata": {},
   "cell_type": "markdown",
   "source": "> Elimina la colonna ***Country*** da df.",
   "id": "6193f08850090db4"
  },
  {
   "metadata": {},
   "cell_type": "code",
   "outputs": [],
   "execution_count": null,
   "source": "",
   "id": "e4300c0188c094a2"
  },
  {
   "metadata": {},
   "cell_type": "code",
   "outputs": [],
   "execution_count": null,
   "source": "# %run ../solutions/05_38.py",
   "id": "ea222274bd9d9f49"
  },
  {
   "metadata": {},
   "cell_type": "markdown",
   "source": [
    "---\n",
    "\n",
    "<div class=\"alert alert-block alert-warning\" style=\"padding: 0px; padding-left: 20px; padding-top: 5px;\"><h2 style=\"color: #301E40\">\n",
    "Data e ora\n",
    "</h2><br>\n",
    "</div>\n",
    "\n",
    "> Controlla il tipo di ***DateFrom***."
   ],
   "id": "58885f253183aa4b"
  },
  {
   "metadata": {},
   "cell_type": "code",
   "outputs": [],
   "execution_count": null,
   "source": "",
   "id": "6a2db256be7a9eb6"
  },
  {
   "metadata": {},
   "cell_type": "code",
   "outputs": [],
   "execution_count": null,
   "source": "# %run ../solutions/05_39.py",
   "id": "ee00bf6374fbb6ad"
  },
  {
   "metadata": {},
   "cell_type": "markdown",
   "source": [
    "***DateFrom*** e ***DateTo*** sono oggetti.\n",
    "\n",
    "> Converti queste due colonne nel formato ***datetime***."
   ],
   "id": "2af578e80c0b9146"
  },
  {
   "metadata": {},
   "cell_type": "code",
   "outputs": [],
   "execution_count": null,
   "source": "",
   "id": "ab50bbb417248db8"
  },
  {
   "metadata": {},
   "cell_type": "code",
   "outputs": [],
   "execution_count": null,
   "source": "# %run ../solutions/05_40.py",
   "id": "edb8079547adf133"
  },
  {
   "metadata": {},
   "cell_type": "markdown",
   "source": [
    "Nota: avremmo potuto utilizzare il parametro *parse_dates* durante il\n",
    "caricamento dei dati.  \n",
    "Ora possiamo utilizzare queste colonne per filtrare o eseguire alcuni\n",
    "calcoli.\n",
    "\n",
    "> Estrai le righe in cui la formazione è iniziata dopo il primo febbraio 2017."
   ],
   "id": "5f796a171b5c5177"
  },
  {
   "metadata": {},
   "cell_type": "code",
   "outputs": [],
   "execution_count": null,
   "source": "",
   "id": "2e63513eaea15ada"
  },
  {
   "metadata": {},
   "cell_type": "code",
   "outputs": [],
   "execution_count": null,
   "source": "# %run ../solutions/05_41.py",
   "id": "33b5333c7b60fc55"
  },
  {
   "metadata": {},
   "cell_type": "markdown",
   "source": "> Crea una colonna ***duration*** con la durata della formazione.",
   "id": "cd029223f5fc55f6"
  },
  {
   "metadata": {},
   "cell_type": "code",
   "outputs": [],
   "execution_count": null,
   "source": "",
   "id": "3343aff1c1685828"
  },
  {
   "metadata": {},
   "cell_type": "code",
   "outputs": [],
   "execution_count": null,
   "source": "# %run ../solutions/05_42.py",
   "id": "5db7d1faf8beb941"
  },
  {
   "metadata": {},
   "cell_type": "markdown",
   "source": [
    "> Crea una colonna ***month*** che indichi in quale mese è iniziata la formazione.  \n",
    "> Traccia un istogramma della colonna ***month***."
   ],
   "id": "4e3163cd9b59453c"
  },
  {
   "metadata": {},
   "cell_type": "code",
   "outputs": [],
   "execution_count": null,
   "source": "",
   "id": "76b771fb59a7f516"
  },
  {
   "metadata": {},
   "cell_type": "code",
   "outputs": [],
   "execution_count": null,
   "source": "# %run ../solutions/05_43.py",
   "id": "5840609e79020e8"
  },
  {
   "metadata": {},
   "cell_type": "markdown",
   "source": [
    "---\n",
    "\n",
    "<div class=\"alert alert-block alert-warning\" style=\"padding: 0px; padding-left: 20px; padding-top: 5px;\"><h2 style=\"color: #301E40\">\n",
    "Ordinamento dei valori\n",
    "</h2><br>\n",
    "</div>\n",
    "\n",
    "> Ordina df in ordine alfabetico per ***cities***."
   ],
   "id": "dd5536c8ae45c79e"
  },
  {
   "metadata": {},
   "cell_type": "code",
   "outputs": [],
   "execution_count": null,
   "source": "",
   "id": "c1e2799dad7d58b2"
  },
  {
   "metadata": {},
   "cell_type": "code",
   "outputs": [],
   "execution_count": null,
   "source": "# %run ../solutions/05_44.py",
   "id": "fe184528f060eeaf"
  },
  {
   "metadata": {},
   "cell_type": "markdown",
   "source": [
    "> Ordina df per ***duration*** in ordine crescente e per ***Attendees***\n",
    "> in ordine decrescente."
   ],
   "id": "f52a18c88d38506f"
  },
  {
   "metadata": {},
   "cell_type": "code",
   "outputs": [],
   "execution_count": null,
   "source": "",
   "id": "3c3af8245ddcd705"
  },
  {
   "metadata": {},
   "cell_type": "code",
   "outputs": [],
   "execution_count": null,
   "source": "# %run ../solutions/05_45.py",
   "id": "27d60a2860754de3"
  },
  {
   "metadata": {},
   "cell_type": "markdown",
   "source": "Possiamo vedere che si sono verificati un paio di problemi con l'immissione dei dati delle date...",
   "id": "cecc65e2ad1da38c"
  },
  {
   "metadata": {},
   "cell_type": "markdown",
   "source": [
    "---\n",
    "\n",
    "<div class=\"alert alert-block alert-warning\" style=\"padding: 0px; padding-left: 20px; padding-top: 5px;\"><h2 style=\"color: #301E40\">\n",
    "Raggruppamenti\n",
    "</h2><br>\n",
    "</div>\n",
    "\n",
    "> Raggruppa (Group by) df per ***city***. Assegna i dati raggruppati a\n",
    "> df_gr."
   ],
   "id": "e1345d6d914a76e3"
  },
  {
   "metadata": {},
   "cell_type": "code",
   "outputs": [],
   "execution_count": null,
   "source": "",
   "id": "37b098c555b1e935"
  },
  {
   "metadata": {},
   "cell_type": "code",
   "outputs": [],
   "execution_count": null,
   "source": "# %run ../solutions/05_46.py",
   "id": "2a4a36659692a8c9"
  },
  {
   "metadata": {},
   "cell_type": "markdown",
   "source": "> Ottieni il numero medio di ***Attendees*** dai dati raggruppati.",
   "id": "1f43314eddc0e5f9"
  },
  {
   "metadata": {},
   "cell_type": "code",
   "outputs": [],
   "execution_count": null,
   "source": "",
   "id": "f362600f8bc26ae0"
  },
  {
   "metadata": {},
   "cell_type": "code",
   "outputs": [],
   "execution_count": null,
   "source": "# %run ../solutions/05_47.py",
   "id": "b5fbbaadf2627387"
  }
 ],
 "metadata": {
  "kernelspec": {
   "display_name": "Python 3",
   "language": "python",
   "name": "python3"
  },
  "language_info": {
   "codemirror_mode": {
    "name": "ipython",
    "version": 2
   },
   "file_extension": ".py",
   "mimetype": "text/x-python",
   "name": "python",
   "nbconvert_exporter": "python",
   "pygments_lexer": "ipython2",
   "version": "2.7.6"
  }
 },
 "nbformat": 4,
 "nbformat_minor": 5
}
