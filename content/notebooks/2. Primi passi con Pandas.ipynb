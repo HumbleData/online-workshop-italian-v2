{
 "cells": [
  {
   "metadata": {},
   "cell_type": "markdown",
   "source": [
    "<div class=\"alert alert-block alert-info\" style=\"background-color: #301E40; border: 0px; -moz-border-radius: 10px; -webkit-border-radius: 10px;\">\n",
    "<br/><br/>\n",
    "<h1 style=\"font-size: 45px; color: white; align: center;\"><center>\n",
    "<img src=\"https://raw.githubusercontent.com/HumbleData/beginners-data-workshop/master/media/humble-data-logo-white-transparent.png\" width=\"250px\" /><br/><br/>\n",
    "Analisi dei dati con Pandas\n",
    "</center></h1>\n",
    "</div>\n",
    "\n",
    "> ***Nota***: questo notebook contiene celle di soluzione con ***una\n",
    "> sola*** soluzione. Ricorda che non esiste un'unica soluzione a un\n",
    "> problema!\n",
    ">\n",
    "> Riconoscerai queste celle in quanto iniziano con **\\# %**.\n",
    ">\n",
    "> Se desideri vedere la soluzione, dovrai rimuovere il carattere **\\#**\n",
    "> (cosa che puoi fare utilizzando **Ctrl** e **?**) e quindi eseguire la\n",
    "> cella. Se desideri eseguire il codice della soluzione, dovrai eseguire\n",
    "> nuovamente la cella.\n",
    "\n",
    "<div class=\"alert alert-block alert-warning\" style=\"padding: 0px; padding-left: 20px; padding-top: 5px;\"><h2 style=\"color: #301E40\">\n",
    "Pacchetti di analisi dei dati\n",
    "</h2><br>\n",
    "</div>\n",
    "\n",
    "I data scientist utilizzano varie librerie Python che semplificano notevolmente il lavoro con i dati. Tali librerie sono costituite principalmente da:\n",
    "\n",
    "| Pacchetto                     | Descrizione                                                                                                                                                                                                            |\n",
    "|-------------------------------|------------------------------------------------------------------------------------------------------------------------------------------------------------------------------------------------------------------------|\n",
    "| `NumPy`                       | Calcoli numerici: esegue tutto il lavoro pesante passando alle subroutine C. Ciò significa che ottieni *sia* la produttività di Python *che* la potenza computazionale di C. Il meglio di entrambi i mondi!            |\n",
    "| `SciPy`                       | Calcolo scientifico, test statistici e molto altro!                                                                                                                                                                    |\n",
    "| `pandas`                      | Il tuo coltellino svizzero per la manipolazione dei dati. Probabilmente vedrai pandas utilizzato in qualsiasi demo di PyData! Pandas è basato su NumPy, quindi è **veloce**.                                           |\n",
    "| `matplotlib`                  | Un vecchio ma potente pacchetto di visualizzazione dei dati, ispirato a Matlab.                                                                                                                                        |\n",
    "| `Seaborn`                     | Un pacchetto di visualizzazione dei dati più nuovo e facile da usare ma limitato, basato su matplotlib.                                                                                                                |\n",
    "| `scikit-learn`                | La tua cassetta degli attrezzi per il machine learning! Classificazione, regressione, clustering, riduzione dimensionale e altro.                                                                                      |\n",
    "| `nltk` e `spacy`              | nltk = natural language processing toolkit (in italiano \"strumenti per l'elaborazione del linguaggio naturale\"); spacy è un pacchetto più recente per l'elaborazione del linguaggio naturale ma molto facile da usare. |\n",
    "| `statsmodels`                 | Test statistici, previsioni di serie temporali e altro ancora. L'interfaccia della \"formula del modello\" risulterà familiare agli utenti di R.                                                                         |\n",
    "| `requests` e `Beautiful Soup` | `requests` + `Beautiful Soup` = ottima combinazione per sviluppare web scraper.                                                                                                                                        |\n",
    "| `Jupyter`                     | Anche Jupyter stesso è un pacchetto. Dai un'occhiata all'ultima versione su <https://pypi.org/project/jupyter/> e aggiornala con un comando come `conda install jupyter==1.0.0`                                        |\n",
    "\n",
    "Tieni presente che ne esistono molti altri.\n",
    "\n",
    "Per oggi ci concentreremo principalmente sulla libreria che rappresenta il 99% del nostro lavoro: `pandas`. Pandas sfrutta la velocità e la\n",
    "potenza di NumPy.\n",
    "\n",
    "Esegui il codice qui sotto. Non farti spaventare dal fatto che vedrai un modo un po' diverso da quello con cui abbiamo importato i moduli finora: si tratta di una sintassi speciale per lavorare con i notebook JupyterLite che stiamo utilizzando."
   ],
   "id": "7581a30fdd838de6"
  },
  {
   "metadata": {},
   "cell_type": "code",
   "outputs": [],
   "execution_count": null,
   "source": [
    "import pyodide_js\n",
    "\n",
    "# Installa NumPy\n",
    "await pyodide_js.loadPackage('numpy')\n",
    "\n",
    "# Installa Pandas\n",
    "await pyodide_js.loadPackage('pandas')"
   ],
   "id": "83c5c3a16a86c912"
  },
  {
   "metadata": {},
   "cell_type": "markdown",
   "source": [
    "<div class=\"alert alert-block alert-warning\" style=\"padding: 0px; padding-left: 20px; padding-top: 5px;\"><h2 style=\"color: #301E40\">\n",
    "Importazioni\n",
    "</h2><br>\n",
    "</div>"
   ],
   "id": "1648e3653e4d746"
  },
  {
   "metadata": {},
   "cell_type": "code",
   "outputs": [],
   "execution_count": null,
   "source": "import pandas as pd",
   "id": "4f60e8d08b92c38e"
  },
  {
   "metadata": {},
   "cell_type": "markdown",
   "source": "> Importa numpy utilizzando la convenzione vista alla fine del primo notebook.",
   "id": "eb79c692eba9dd65"
  },
  {
   "metadata": {},
   "cell_type": "code",
   "outputs": [],
   "execution_count": null,
   "source": "",
   "id": "8eb497812fd46b8e"
  },
  {
   "metadata": {},
   "cell_type": "code",
   "outputs": [],
   "execution_count": null,
   "source": "# %run ../solutions/02_01.py",
   "id": "247f39e44c455e4a"
  },
  {
   "metadata": {},
   "cell_type": "markdown",
   "source": [
    "<div class=\"alert alert-block alert-warning\" style=\"padding: 0px; padding-left: 20px; padding-top: 5px;\"><h2 style=\"color: #301E40\">\n",
    "Caricamento dei dati\n",
    "</h2><br>\n",
    "</div>\n",
    "\n",
    "Per consultare la documentazione di un metodo, puoi utilizzare la funzione di aiuto. In Jupyter puoi anche semplicemente inserire un punto interrogativo prima del metodo."
   ],
   "id": "190848de24c098c"
  },
  {
   "metadata": {},
   "cell_type": "code",
   "outputs": [],
   "execution_count": null,
   "source": "?pd.read_csv",
   "id": "a7b7b73203262c42"
  },
  {
   "metadata": {},
   "cell_type": "markdown",
   "source": [
    "Per caricare il dataframe che stiamo utilizzando in questo notebook,\n",
    "carichiamo il file tramite il suo percorso: ../data/Penguins/penguins.csv\n",
    "\n",
    "> Carica il dataframe, leggilo come DataFrame pandas e assegnalo alla\n",
    "> variabile df."
   ],
   "id": "80215ff2eb81999f"
  },
  {
   "metadata": {},
   "cell_type": "code",
   "outputs": [],
   "execution_count": null,
   "source": "",
   "id": "19352a8fb0d83a3"
  },
  {
   "metadata": {},
   "cell_type": "code",
   "outputs": [],
   "execution_count": null,
   "source": "# %run ../solutions/02_02.py",
   "id": "6ed00f65228276e4"
  },
  {
   "metadata": {},
   "cell_type": "markdown",
   "source": "**Per dare un'occhiata alle prime 5 righe di df, possiamo usare il metodo *head*.**",
   "id": "e12dc89b8e2c34ca"
  },
  {
   "metadata": {},
   "cell_type": "code",
   "outputs": [],
   "execution_count": null,
   "source": "df.head()",
   "id": "2516b648b9090298"
  },
  {
   "metadata": {},
   "cell_type": "markdown",
   "source": "> Dai un'occhiata alle ultime 3 righe di df usando il metodo tail",
   "id": "f41cce5699fd4db1"
  },
  {
   "metadata": {},
   "cell_type": "code",
   "outputs": [],
   "execution_count": null,
   "source": "",
   "id": "d121217ffa427f58"
  },
  {
   "metadata": {},
   "cell_type": "code",
   "outputs": [],
   "execution_count": null,
   "source": "# %run ../solutions/02_03.py",
   "id": "55c0fdb4b354d522"
  },
  {
   "metadata": {},
   "cell_type": "markdown",
   "source": [
    "<div class=\"alert alert-block alert-warning\" style=\"padding: 0px; padding-left: 20px; padding-top: 5px;\"><h2 style=\"color: #301E40\">\n",
    "Informazioni generali sul dataset\n",
    "</h2><br>\n",
    "</div>\n",
    "\n",
    "**Per ottenere la dimensione di un dataset, possiamo utilizzare l'attributo *shape*.**  \n",
    "Il primo numero è il numero di righe, il secondo il numero di colonne\n",
    "\n",
    "> Guarda che forma (in inglese \"shape\") ha la variabile df (non inserire\n",
    "> parentesi alla fine)."
   ],
   "id": "fcc12c554a6c46d7"
  },
  {
   "metadata": {},
   "cell_type": "code",
   "outputs": [],
   "execution_count": null,
   "source": "",
   "id": "88e626ca956ce2a8"
  },
  {
   "metadata": {},
   "cell_type": "code",
   "outputs": [],
   "execution_count": null,
   "source": "# %run ../solutions/02_04.py",
   "id": "334155358c63d30d"
  },
  {
   "metadata": {},
   "cell_type": "markdown",
   "source": [
    "> Recupera i nomi delle colonne e le informazioni su di esse (numero di\n",
    "> non nulli e tipo) utilizzando il metodo info."
   ],
   "id": "9f29cea83f3e2ff"
  },
  {
   "metadata": {},
   "cell_type": "code",
   "outputs": [],
   "execution_count": null,
   "source": "",
   "id": "274f6b17659ac6fd"
  },
  {
   "metadata": {},
   "cell_type": "code",
   "outputs": [],
   "execution_count": null,
   "source": "# %run ../solutions/02_05.py",
   "id": "69ce30ed0f9cd5cf"
  },
  {
   "metadata": {},
   "cell_type": "markdown",
   "source": "> Recupera le colonne del dataframe utilizzando l'attributo columns.",
   "id": "50e1a985184a23c6"
  },
  {
   "metadata": {},
   "cell_type": "code",
   "outputs": [],
   "execution_count": null,
   "source": "",
   "id": "ae6024f6eb272340"
  },
  {
   "metadata": {},
   "cell_type": "code",
   "outputs": [],
   "execution_count": null,
   "source": "# %run ../solutions/02_06.py",
   "id": "9d8bab3e542c4cb4"
  },
  {
   "metadata": {},
   "cell_type": "markdown",
   "source": [
    "<div class=\"alert alert-block alert-warning\" style=\"padding: 0px; padding-left: 20px; padding-top: 5px;\"><h2 style=\"color: #301E40\">\n",
    "Impostazioni di visualizzazione\n",
    "</h2><br>\n",
    "</div>\n",
    "\n",
    "Hai tu il controllo sulle opzioni di visualizzazione del notebook."
   ],
   "id": "d7e9a8e21e3c40d0"
  },
  {
   "metadata": {},
   "cell_type": "code",
   "outputs": [],
   "execution_count": null,
   "source": "pd.set_option('display.max_rows', [numero di righe])",
   "id": "74a8e4ca0c3edb23"
  },
  {
   "metadata": {},
   "cell_type": "markdown",
   "source": "> Forza pandas a visualizzare 25 righe modificando il valore di \\[numero di righe\\] sopra.",
   "id": "84d978d5512833dc"
  },
  {
   "metadata": {},
   "cell_type": "code",
   "outputs": [],
   "execution_count": null,
   "source": "",
   "id": "b601155e287cba0d"
  },
  {
   "metadata": {},
   "cell_type": "code",
   "outputs": [],
   "execution_count": null,
   "source": "# %run ../solutions/02_07.py",
   "id": "23463927d4db5884"
  },
  {
   "metadata": {},
   "cell_type": "markdown",
   "source": [
    "<div class=\"alert alert-block alert-warning\" style=\"padding: 0px; padding-left: 20px; padding-top: 5px;\"><h2 style=\"color: #301E40\">\n",
    "Creare sottoinsiemi di dati\n",
    "</h2><br>\n",
    "</div>\n",
    "\n",
    "Possiamo frammentare un dataframe per etichetta, per indice o una\n",
    "combinazione di entrambi.  \n",
    "Esistono vari modi per farlo, utilizzando .loc, .iloc e \\[ \\].  \n",
    "Consulta la\n",
    "[documentazione](https://pandas.pydata.org/pandas-docs/stable/indexing.html).\n",
    "\n",
    "> Visualizza la colonna \"bill_length_mm\""
   ],
   "id": "1a04151494dbef2c"
  },
  {
   "metadata": {},
   "cell_type": "code",
   "outputs": [],
   "execution_count": null,
   "source": "",
   "id": "53ca22f361ee18fb"
  },
  {
   "metadata": {},
   "cell_type": "code",
   "outputs": [],
   "execution_count": null,
   "source": "# %run ../solutions/02_08.py",
   "id": "9d81c63c8dc4c559"
  },
  {
   "metadata": {},
   "cell_type": "markdown",
   "source": [
    "*Nota:* puoi anche usare `df.bill_length_mm`, ma non è l'idea migliore\n",
    "perché non funziona con colonne con spazi e potrebbe essere usato in\n",
    "combinazione con dei metodi.\n",
    "\n",
    "> Dai un'occhiata alla 12ª osservazione:"
   ],
   "id": "ffec34d8c42ed6cd"
  },
  {
   "metadata": {},
   "cell_type": "code",
   "outputs": [],
   "execution_count": null,
   "source": "# uso di .iloc (utilizza posizioni, \"i\" sta per numero intero)",
   "id": "a1e2887589c93f85"
  },
  {
   "metadata": {},
   "cell_type": "code",
   "outputs": [],
   "execution_count": null,
   "source": "# %run ../solutions/02_09.py",
   "id": "7aca5d9ee85cc711"
  },
  {
   "metadata": {},
   "cell_type": "code",
   "outputs": [],
   "execution_count": null,
   "source": "# uso di .loc (utilizza indici ed etichette)",
   "id": "91050782fece2fe5"
  },
  {
   "metadata": {},
   "cell_type": "code",
   "outputs": [],
   "execution_count": null,
   "source": "# %run ../solutions/02_10.py",
   "id": "e2186264cacb9524"
  },
  {
   "metadata": {},
   "cell_type": "markdown",
   "source": "> Visualizza **bill_length_mm** per le ultime tre osservazioni.",
   "id": "b151f3e8f6d22493"
  },
  {
   "metadata": {},
   "cell_type": "code",
   "outputs": [],
   "execution_count": null,
   "source": "# uso di .iloc",
   "id": "bfcf3d8b79b5b108"
  },
  {
   "metadata": {},
   "cell_type": "code",
   "outputs": [],
   "execution_count": null,
   "source": "# %run ../solutions/02_11.py",
   "id": "d57cc71cc92e2318"
  },
  {
   "metadata": {},
   "cell_type": "code",
   "outputs": [],
   "execution_count": null,
   "source": "# uso di .loc",
   "id": "863b95d55fffe99a"
  },
  {
   "metadata": {},
   "cell_type": "code",
   "outputs": [],
   "execution_count": null,
   "source": "# %run ../solutions/02_12.py",
   "id": "780203d6a3d7ba83"
  },
  {
   "metadata": {},
   "cell_type": "markdown",
   "source": "E infine estrai **flipper_length_mm** e **body_mass_g** della 146ª, dell'8ª e della prima osservazione:",
   "id": "458d899cc3cd6ebd"
  },
  {
   "metadata": {},
   "cell_type": "code",
   "outputs": [],
   "execution_count": null,
   "source": "# uso di .iloc",
   "id": "fcd98c20904fd62f"
  },
  {
   "metadata": {},
   "cell_type": "code",
   "outputs": [],
   "execution_count": null,
   "source": "# %run ../solutions/02_13.py",
   "id": "7373e3d756c4afd3"
  },
  {
   "metadata": {},
   "cell_type": "code",
   "outputs": [],
   "execution_count": null,
   "source": "# uso di .loc",
   "id": "61b977f4a7a3851a"
  },
  {
   "metadata": {},
   "cell_type": "code",
   "outputs": [],
   "execution_count": null,
   "source": "# %run ../solutions/02_14.py",
   "id": "994c93eda537eed4"
  },
  {
   "metadata": {},
   "cell_type": "markdown",
   "source": "**!!ATTENZIONE!!** A differenza di Python e `.iloc`, il valore finale in un intervallo specificato da `.loc` **include** l'ultimo indice specificato.",
   "id": "af7126c8bc99dcc0"
  },
  {
   "metadata": {},
   "cell_type": "code",
   "outputs": [],
   "execution_count": null,
   "source": "df.iloc[5:10]",
   "id": "d5b4964263d1c1d8"
  },
  {
   "metadata": {},
   "cell_type": "code",
   "outputs": [],
   "execution_count": null,
   "source": "df.loc[5:10]",
   "id": "69361aa9d78dc207"
  },
  {
   "metadata": {},
   "cell_type": "markdown",
   "source": [
    "<div class=\"alert alert-block alert-warning\" style=\"padding: 0px; padding-left: 20px; padding-top: 5px;\"><h2 style=\"color: #301E40\">\n",
    "Filtraggio dei dati in base a condizioni\n",
    "</h2><br>\n",
    "</div>\n",
    "\n",
    "**Possiamo anche utilizzare una o più condizioni per filtrare.**  \n",
    "Vogliamo visualizzare le righe di df dove **body_mass_g** è maggiore di 4000. Inizieremo creando una maschera con questa condizione."
   ],
   "id": "55791c9864c123ba"
  },
  {
   "metadata": {},
   "cell_type": "code",
   "outputs": [],
   "execution_count": null,
   "source": [
    "mask_PW = df['body_mass_g'] > 4000\n",
    "mask_PW"
   ],
   "id": "28463751636eef89"
  },
  {
   "metadata": {},
   "cell_type": "markdown",
   "source": "Tieni presente che questa restituisce valori booleani. Se passiamo questa maschera al nostro dataframe, verranno visualizzate solo le righe in cui la maschera è True.",
   "id": "62504b141396b930"
  },
  {
   "metadata": {},
   "cell_type": "code",
   "outputs": [],
   "execution_count": null,
   "source": "df[mask_PW]",
   "id": "b22f94ebd0042d9c"
  },
  {
   "metadata": {},
   "cell_type": "markdown",
   "source": "> Visualizza le righe di df dove **body_mass_g** è maggiore di 4000 e **flipper_length_mm** è minore di 185.",
   "id": "cf86af1fb858d344"
  },
  {
   "metadata": {},
   "cell_type": "code",
   "outputs": [],
   "execution_count": null,
   "source": "",
   "id": "995cb31140742346"
  },
  {
   "metadata": {},
   "cell_type": "code",
   "outputs": [],
   "execution_count": null,
   "source": "# %run ../solutions/02_15.py",
   "id": "b7780c72a6c48017"
  },
  {
   "metadata": {},
   "cell_type": "markdown",
   "source": [
    "<div class=\"alert alert-block alert-warning\" style=\"padding: 0px; padding-left: 20px; padding-top: 5px;\"><h2 style=\"color: #301E40\">\n",
    "Valori\n",
    "</h2><br>\n",
    "</div>\n",
    "\n",
    "Possiamo ottenere il numero di valori univoci da una determinata colonna utilizzando il metodo `nunique`.\n",
    "\n",
    "Ad esempio, possiamo sapere il numero di valori univoci dalla colonna species:"
   ],
   "id": "bbb4a59cfedfa489"
  },
  {
   "metadata": {},
   "cell_type": "code",
   "outputs": [],
   "execution_count": null,
   "source": "df['species'].nunique()",
   "id": "9b40557cf96b712a"
  },
  {
   "metadata": {},
   "cell_type": "markdown",
   "source": [
    "Possiamo ottenere l'elenco di valori univoci da una determinata colonna anche utilizzando il metodo `unique`.\n",
    "\n",
    "> Calcola quanti sono i valori univoci dalla colonna species"
   ],
   "id": "67855cc4511db76b"
  },
  {
   "metadata": {},
   "cell_type": "code",
   "outputs": [],
   "execution_count": null,
   "source": "",
   "id": "95e61cbda225be14"
  },
  {
   "metadata": {},
   "cell_type": "code",
   "outputs": [],
   "execution_count": null,
   "source": "# %run ../solutions/02_16.py",
   "id": "d421edb8da3a801b"
  },
  {
   "metadata": {},
   "cell_type": "markdown",
   "source": [
    "<div class=\"alert alert-block alert-warning\" style=\"padding: 0px; padding-left: 20px; padding-top: 5px;\"><h2 style=\"color: #301E40\">\n",
    "Valori nulli (null) e NaN\n",
    "</h2><br>\n",
    "</div>\n",
    "\n",
    "Lavorando con i dati, scoprirai presto che i dati non sono quasi mai\n",
    "\"puliti\". I valori che letteralmente non contengono alcun dato vengono\n",
    "definiti valori nulli (null). Nel calcolo è buona pratica anche definire\n",
    "un \"numero speciale\" chiamato \"NaN\", dall'inglese \"**N**ot **a**\n",
    "**N**umber\" (trad. \"non è un numero\").\n",
    "\n",
    "Possiamo usare il metodo `isnull` per sapere se un valore è nullo o\n",
    "meno. Questo metodo restituisce un booleano."
   ],
   "id": "1449299662ce5eb"
  },
  {
   "metadata": {},
   "cell_type": "code",
   "outputs": [],
   "execution_count": null,
   "source": "df['flipper_length_mm'].isnull()",
   "id": "9904513d7f2fa103"
  },
  {
   "metadata": {},
   "cell_type": "markdown",
   "source": [
    "**Possiamo applicare diversi metodi uno dopo l'altro.**.  \n",
    "Ad esempio, potremmo applicare il metodo `sum` dopo il metodo `isnull`\n",
    "per conoscere il numero di osservazioni nulle nella colonna\n",
    "**flipper_length_mm**.\n",
    "\n",
    "> Calcola il numero totale di valori nulli per **flipper_length_mm**."
   ],
   "id": "170888fa7910d94e"
  },
  {
   "metadata": {},
   "cell_type": "code",
   "outputs": [],
   "execution_count": null,
   "source": "",
   "id": "61fbfc3c59596e4f"
  },
  {
   "metadata": {},
   "cell_type": "code",
   "outputs": [],
   "execution_count": null,
   "source": "# %run ../solutions/02_17.py",
   "id": "57d1102fdb39e8a7"
  },
  {
   "metadata": {},
   "cell_type": "markdown",
   "source": [
    "Per ottenere il conteggio dei diversi valori di una colonna, possiamo utilizzare il metodo `value_counts`.\n",
    "\n",
    "Ad esempio, per la colonna species:"
   ],
   "id": "457896eeef9fe571"
  },
  {
   "metadata": {},
   "cell_type": "code",
   "outputs": [],
   "execution_count": null,
   "source": "df['species'].value_counts()",
   "id": "d99559ded822f2f0"
  },
  {
   "metadata": {},
   "cell_type": "markdown",
   "source": [
    "Se vogliamo conoscere il conteggio dei valori NaN, dobbiamo passare il valore `False` al parametro **dropna** (impostato su `True` per impostazione predefinita).\n",
    "\n",
    "> Calcola la proporzione per ciascun sesso, inclusi i valori NaN."
   ],
   "id": "dad7dc8888176432"
  },
  {
   "metadata": {},
   "cell_type": "code",
   "outputs": [],
   "execution_count": null,
   "source": "",
   "id": "f11eef74aaad7e9f"
  },
  {
   "metadata": {},
   "cell_type": "code",
   "outputs": [],
   "execution_count": null,
   "source": "# %run ../solutions/02_18.py",
   "id": "81caaf28e57d781a"
  },
  {
   "metadata": {},
   "cell_type": "markdown",
   "source": [
    "Per ottenere la proporzione invece del conteggio di questi valori, dobbiamo passare il valore `True` al parametro **normalize**.\n",
    "\n",
    "> Calcola la proporzione per ciascuna specie."
   ],
   "id": "985802c28f2208d3"
  },
  {
   "metadata": {},
   "cell_type": "code",
   "outputs": [],
   "execution_count": null,
   "source": "",
   "id": "14f7beecdfb7f0e4"
  },
  {
   "metadata": {},
   "cell_type": "code",
   "outputs": [],
   "execution_count": null,
   "source": "# %run ../solutions/02_19.py",
   "id": "8efaebf18531ceaa"
  },
  {
   "metadata": {},
   "cell_type": "markdown",
   "source": "> Utilizzando l'attributo index (indice), recupera gli indici delle osservazioni che non hanno **flipper_length_mm**",
   "id": "f9ccb0e2c7ba58cf"
  },
  {
   "metadata": {},
   "cell_type": "code",
   "outputs": [],
   "execution_count": null,
   "source": "",
   "id": "13ab5b6d5b4d1d88"
  },
  {
   "metadata": {},
   "cell_type": "code",
   "outputs": [],
   "execution_count": null,
   "source": "# %run ../solutions/02_20.py",
   "id": "ecac79ddaadc3029"
  },
  {
   "metadata": {},
   "cell_type": "markdown",
   "source": [
    "Utilizza il metodo **[dropna](https://pandas.pydata.org/pandas-docs/stable/reference/api/pandas.DataFrame.dropna.html)** per rimuovere la riga che ha solo valori NaN.\n",
    "\n",
    "> Consulta la documentazione del metodo dropna."
   ],
   "id": "417a940ea542896b"
  },
  {
   "metadata": {},
   "cell_type": "code",
   "outputs": [],
   "execution_count": null,
   "source": "",
   "id": "284500eb124f215d"
  },
  {
   "metadata": {},
   "cell_type": "code",
   "outputs": [],
   "execution_count": null,
   "source": "# %run ../solutions/02_21.py",
   "id": "2c3714adb86bb15a"
  },
  {
   "metadata": {},
   "cell_type": "markdown",
   "source": "> Utilizza il metodo dropna per rimuovere la riga di `df` dove tutti i valori sono NaN e assegnala a `df_2`.",
   "id": "1357494f9058e9dc"
  },
  {
   "metadata": {},
   "cell_type": "code",
   "outputs": [],
   "execution_count": null,
   "source": "",
   "id": "90847d8bfbc324f"
  },
  {
   "metadata": {},
   "cell_type": "code",
   "outputs": [],
   "execution_count": null,
   "source": "# %run ../solutions/02_22.py",
   "id": "e2d3245b3d976e"
  },
  {
   "metadata": {},
   "cell_type": "markdown",
   "source": "Possiamo usare una f-string (stringa di formattazione) per formattare una stringa. Dobbiamo scrivere una f prima delle virgolette e scrivere ciò che vogliamo formattare tra parentesi graffe.",
   "id": "8d784cada9b1e898"
  },
  {
   "metadata": {},
   "cell_type": "code",
   "outputs": [],
   "execution_count": null,
   "source": "print(f'Forma di df: {df.shape}')",
   "id": "4fbc55a7cbac840"
  },
  {
   "metadata": {},
   "cell_type": "markdown",
   "source": "> Stampa il numero di righe di `df_2` utilizzando una f-string. Si sono perse delle righe tra `df` e `df_2`? Se no, perché?",
   "id": "51a44828f5da3e91"
  },
  {
   "metadata": {},
   "cell_type": "code",
   "outputs": [],
   "execution_count": null,
   "source": "",
   "id": "f7e6a667a68d4f6d"
  },
  {
   "metadata": {},
   "cell_type": "code",
   "outputs": [],
   "execution_count": null,
   "source": "# %run ../solutions/02_23.py",
   "id": "50bb5e7722f83e46"
  },
  {
   "metadata": {},
   "cell_type": "markdown",
   "source": "> Utilizza il metodo dropna per rimuovere le righe di `df_2` che contengono valori NaN e assegna il risultato alla variabile `df_3`",
   "id": "2d52c2787322c12b"
  },
  {
   "metadata": {},
   "cell_type": "code",
   "outputs": [],
   "execution_count": null,
   "source": "",
   "id": "73dca9c2fa9ea646"
  },
  {
   "metadata": {},
   "cell_type": "code",
   "outputs": [],
   "execution_count": null,
   "source": "# %run ../solutions/02_24.py",
   "id": "abd39303855c9a99"
  },
  {
   "metadata": {},
   "cell_type": "markdown",
   "source": "> Stampa il numero di righe di `df_3` utilizzando una f-string.",
   "id": "28ae52ff98a71fd5"
  },
  {
   "metadata": {},
   "cell_type": "code",
   "outputs": [],
   "execution_count": null,
   "source": "",
   "id": "5d9b868c75769ab1"
  },
  {
   "metadata": {},
   "cell_type": "code",
   "outputs": [],
   "execution_count": null,
   "source": "# %run ../solutions/02_25.py",
   "id": "eefeb7b567c6f433"
  },
  {
   "metadata": {},
   "cell_type": "markdown",
   "source": [
    "<div class=\"alert alert-block alert-warning\" style=\"padding: 0px; padding-left: 20px; padding-top: 5px;\"><h2 style=\"color: #301E40\">\n",
    "Duplicati\n",
    "</h2><br>\n",
    "</div>\n",
    "\n",
    "> Rimuovi le righe duplicate da `df_3` e assegna il nuovo dataframe a `df_4`"
   ],
   "id": "614517c53f4a0178"
  },
  {
   "metadata": {},
   "cell_type": "code",
   "outputs": [],
   "execution_count": null,
   "source": "",
   "id": "ed40702e77d765e5"
  },
  {
   "metadata": {},
   "cell_type": "code",
   "outputs": [],
   "execution_count": null,
   "source": "# %run ../solutions/02_26.py",
   "id": "813eb8c1f5eada27"
  },
  {
   "metadata": {},
   "cell_type": "code",
   "outputs": [],
   "execution_count": null,
   "source": [
    "# controllo della forma di df_4\n",
    "df_4.shape"
   ],
   "id": "9e42b292aa69d638"
  },
  {
   "metadata": {},
   "cell_type": "markdown",
   "source": "Vedrai che 4 righe sono state eliminate.",
   "id": "3bc42cbc5f238e85"
  },
  {
   "metadata": {},
   "cell_type": "markdown",
   "source": [
    "<div class=\"alert alert-block alert-warning\" style=\"padding: 0px; padding-left: 20px; padding-top: 5px;\"><h2 style=\"color: #301E40\">\n",
    "Alcune statistiche\n",
    "</h2><br>\n",
    "</div>\n",
    "\n",
    "> Utilizza il metodo describe per vedere come sono distribuiti i dati (solo caratteristiche numeriche!)"
   ],
   "id": "463cfea06612df64"
  },
  {
   "metadata": {},
   "cell_type": "code",
   "outputs": [],
   "execution_count": null,
   "source": "",
   "id": "6cab7db64b879769"
  },
  {
   "metadata": {},
   "cell_type": "code",
   "outputs": [],
   "execution_count": null,
   "source": "# %run ../solutions/02_27.py",
   "id": "e68c838639bf8b6"
  },
  {
   "metadata": {},
   "cell_type": "markdown",
   "source": "Possiamo anche modificare la colonna **species** per risparmiare spazio in memoria. Nota: potrebbe apparire un avviso **SettingWithCopyWarning**: puoi tranquillamente ignorare l'errore per adesso.",
   "id": "cd8f7143fe647df5"
  },
  {
   "metadata": {},
   "cell_type": "code",
   "outputs": [],
   "execution_count": null,
   "source": "df_4['species'] = df_4['species'].astype('category')",
   "id": "2f4543fc912b1c81"
  },
  {
   "metadata": {},
   "cell_type": "markdown",
   "source": "> Utilizzando l'attributo dtypes, controlla i tipi delle colonne di `df_4`",
   "id": "49045c47cb01dabc"
  },
  {
   "metadata": {},
   "cell_type": "code",
   "outputs": [],
   "execution_count": null,
   "source": "",
   "id": "fd7ece6ce1c1455a"
  },
  {
   "metadata": {},
   "cell_type": "code",
   "outputs": [],
   "execution_count": null,
   "source": "# %run ../solutions/02_28.py",
   "id": "a87af7fccbf575a2"
  },
  {
   "metadata": {},
   "cell_type": "markdown",
   "source": [
    "Possiamo anche usare le funzioni count(), mean(), sum(), median(),\n",
    "std(), min() e max() separatamente se ci interessa solo una di queste\n",
    "statistiche.\n",
    "\n",
    "> Calcola il minimo per ogni colonna numerica di `df_4`. Assicurati di\n",
    "> includere l'argomento `numeric_only=True` nella funzione per limitare\n",
    "> il calcolo alle colonne numeriche."
   ],
   "id": "3aef4cee874d6ccb"
  },
  {
   "metadata": {},
   "cell_type": "code",
   "outputs": [],
   "execution_count": null,
   "source": "",
   "id": "6c84e2ff694ac720"
  },
  {
   "metadata": {},
   "cell_type": "code",
   "outputs": [],
   "execution_count": null,
   "source": "# %run ../solutions/02_29.py",
   "id": "423be23fb2263768"
  },
  {
   "metadata": {},
   "cell_type": "markdown",
   "source": "> Calcola il massimo di **flipper_length_mm**.",
   "id": "92af21d7443722c2"
  },
  {
   "metadata": {},
   "cell_type": "code",
   "outputs": [],
   "execution_count": null,
   "source": "",
   "id": "6fafb45ad8a0ed2c"
  },
  {
   "metadata": {},
   "cell_type": "code",
   "outputs": [],
   "execution_count": null,
   "source": "# %run ../solutions/02_30.py",
   "id": "d9a1ae4f933684ad"
  },
  {
   "metadata": {},
   "cell_type": "markdown",
   "source": [
    "Possiamo anche ottenere informazioni aggregate per ciascuna specie\n",
    "utilizzando il metodo `groupby`.\n",
    "\n",
    "> Ottieni la mediana per ciascuna specie (colonna **species**). Di\n",
    "> nuovo, assicurati di includere l'argomento `numeric_only=True` nella\n",
    "> funzione per limitare il calcolo alle colonne numeriche."
   ],
   "id": "3649f7a9f669b338"
  },
  {
   "metadata": {},
   "cell_type": "code",
   "outputs": [],
   "execution_count": null,
   "source": "",
   "id": "81d4d77506e313d9"
  },
  {
   "metadata": {},
   "cell_type": "code",
   "outputs": [],
   "execution_count": null,
   "source": "# %run ../solutions/02_31.py",
   "id": "555ca44800885cbb"
  },
  {
   "metadata": {},
   "cell_type": "markdown",
   "source": [
    "<div class=\"alert alert-block alert-warning\" style=\"padding: 0px; padding-left: 20px; padding-top: 5px;\"><h2 style=\"color: #301E40\">\n",
    "Salvataggio del dataframe come file CSV\n",
    "</h2><br>\n",
    "</div>\n",
    "\n",
    "> Salva df_4 in questo percorso: `'../data/Penguins/my_penguins.csv'`"
   ],
   "id": "ccef20bea0e4eca"
  },
  {
   "metadata": {},
   "cell_type": "code",
   "outputs": [],
   "execution_count": null,
   "source": "",
   "id": "91a5e378af70dea9"
  },
  {
   "metadata": {},
   "cell_type": "code",
   "outputs": [],
   "execution_count": null,
   "source": "# %run ../solutions/02_32.py",
   "id": "f56f3fdea1979be8"
  }
 ],
 "metadata": {
  "kernelspec": {
   "display_name": "Python 3",
   "language": "python",
   "name": "python3"
  },
  "language_info": {
   "codemirror_mode": {
    "name": "ipython",
    "version": 2
   },
   "file_extension": ".py",
   "mimetype": "text/x-python",
   "name": "python",
   "nbconvert_exporter": "python",
   "pygments_lexer": "ipython2",
   "version": "2.7.6"
  }
 },
 "nbformat": 4,
 "nbformat_minor": 5
}
