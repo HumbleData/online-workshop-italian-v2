{
 "cells": [
  {
   "metadata": {},
   "cell_type": "markdown",
   "source": [
    "<div class=\"alert alert-block alert-info\" style=\"background-color: #301E40; border: 0px; -moz-border-radius: 10px; -webkit-border-radius: 10px;\">\n",
    "<br/><br/>\n",
    "<h1 style=\"font-size: 45px; color: white; align: center;\"><center>\n",
    "<img src=\"https://raw.githubusercontent.com/HumbleData/beginners-data-workshop/master/media/humble-data-logo-white-transparent.png\" width=\"250px\" /><br/><br/>\n",
    "Visualizzazione dei dati con Seaborn\n",
    "</center></h1>\n",
    "</div>"
   ],
   "id": "f085a64805f9f850"
  },
  {
   "metadata": {},
   "cell_type": "markdown",
   "source": [
    "## Informazioni su seaborn\n",
    "\n",
    "Seaborn è una libreria di visualizzazione dati Python basata su\n",
    "matplotlib. Fornisce un'interfaccia di alto livello per tracciare\n",
    "grafici statistici accattivanti e informativi, ed è molto efficace per\n",
    "mostrare dati su categorie.\n",
    "\n",
    "![](https://d1rwhvwstyk9gu.cloudfront.net/2017/07/seaburn-1.png)\n",
    "\n",
    "Prima di iniziare, dobbiamo installare Seaborn. Esegui la cella qui\n",
    "sotto."
   ],
   "id": "fc60b3055e30c3b9"
  },
  {
   "metadata": {},
   "cell_type": "code",
   "outputs": [],
   "execution_count": null,
   "source": [
    "import piplite\n",
    "await piplite.install('seaborn')"
   ],
   "id": "f596e3ecfbe55d"
  },
  {
   "metadata": {},
   "cell_type": "markdown",
   "source": [
    "Utilizzeremo il set di dati\n",
    "[Pokemon.csv](https://gist.github.com/armgilles/194bcff35001e7eb53a2a8b441e8b2c6).\n",
    "Diamo un'occhiata ai dati:"
   ],
   "id": "80d2b51d2516a755"
  },
  {
   "metadata": {},
   "cell_type": "code",
   "outputs": [],
   "execution_count": null,
   "source": [
    "import pandas as pd\n",
    "\n",
    "pokemon_df = pd.read_csv('../data/Pokemon/pokemon.csv', index_col=0)\n",
    "pokemon_df.head(10)"
   ],
   "id": "3ea24a1ff001cbd4"
  },
  {
   "metadata": {},
   "cell_type": "markdown",
   "source": [
    "---\n",
    "<div class=\"alert alert-block alert-warning\" style=\"padding: 0px; padding-left: 20px; padding-top: 5px;\"><h2 style=\"color: #301E40\">\n",
    "Grafici a dispersione di categoria\n",
    "</h2><br>\n",
    "</div>\n",
    "\n",
    "Ad esempio, vogliamo confrontare l'attacco di diversi tipi di pokemon, per vedere se qualche tipo è generalmente più potente degli altri:"
   ],
   "id": "117fb801c035abd3"
  },
  {
   "metadata": {},
   "cell_type": "code",
   "outputs": [],
   "execution_count": null,
   "source": [
    "import seaborn as sns\n",
    "import matplotlib.pyplot as plt\n",
    "\n",
    "sns.catplot(x=\"Type 1\", y=\"Attack\", data=pokemon_df);"
   ],
   "id": "630f5cd45abfa913"
  },
  {
   "metadata": {},
   "cell_type": "markdown",
   "source": [
    "Durante l'importazione, di solito semplifichiamo 'seaborn' con 'sns'. (È\n",
    "un riferimento a [West Wing / Rob\n",
    "Lowe](https://en.wikipedia.org/wiki/Sam_Seaborn)!) Tieni presente che\n",
    "dobbiamo anche importare `matplotlib.pyplot` perché Seaborn è una\n",
    "libreria che sfrutta matplotlib. Abbiamo un grafico, ma non è molto\n",
    "efficace ed è poco leggibile: aggiungiamo qualche configurazione per\n",
    "renderlo più bello.\n",
    "\n",
    "**Prova ad aggiungere `aspect=2.5` come ultimo argomento nel seguente\n",
    "`sns.catplot`**"
   ],
   "id": "92c3621db47eeac0"
  },
  {
   "metadata": {},
   "cell_type": "code",
   "outputs": [],
   "execution_count": null,
   "source": "sns.catplot(x=\"Type 1\", y=\"Attack\", data=pokemon_df);",
   "id": "e1784f1cfc41fa37"
  },
  {
   "metadata": {},
   "cell_type": "markdown",
   "source": [
    "Puoi notare che aggiungendo 'aspect' il grafico si allarga. La larghezza\n",
    "del grafico è uguale a 'aspect \\* height' (aspetto \\* altezza) quindi\n",
    "aggiungendo 'aspect' hai aumentato la larghezza del grafico. È una delle\n",
    "configurazioni che possiamo aggiungere al grafico. Per l'elenco completo\n",
    "delle configurazioni con i relativi dettagli, possiamo fare riferimento\n",
    "alla [documentazione ufficiale (in\n",
    "inglese)](https://seaborn.pydata.org/generated/seaborn.catplot.html#seaborn.catplot),\n",
    "ma vediamo un'introduzione ad alcune comuni.\n",
    "\n",
    "Ad esempio, possiamo impostare un offset casuale dell'asse x per tutti i\n",
    "punti in modo da vederli senza che si sovrappongano. Usiamo\n",
    "l'impostazione 'jitter', il cui valore predefinito è True.\n",
    "Disattiviamola e vediamo cosa accade:\n",
    "\n",
    "**Prova ad aggiungere `jitter=False` come ultimo argomento nel seguente\n",
    "`sns.catplot`**"
   ],
   "id": "a638d9b296b6fe1d"
  },
  {
   "metadata": {},
   "cell_type": "code",
   "outputs": [],
   "execution_count": null,
   "source": "sns.catplot(x=\"Type 1\", y=\"Attack\", data=pokemon_df, aspect=2.5);",
   "id": "c6063ca53e7cdc65"
  },
  {
   "metadata": {},
   "cell_type": "markdown",
   "source": [
    "Ora abbiamo un grafico in cui i punti sono allineati in base alle\n",
    "rispettive categorie senza offset sull'asse x. Quale utilizzare dipende\n",
    "da se la popolazione del valore (ad esempio Attacco) è importante. Nel\n",
    "nostro caso, vogliamo sapere come è distribuito l'Attacco in ogni Tipo,\n",
    "quindi è bene avere il 'jitter' attivo, o meglio ancora se possiamo\n",
    "aumentarlo ancora di più e mostrare la distribuzione:\n",
    "\n",
    "**Prova ad aggiungere `kind=\"swarm\"` come ultimo argomento nel seguente\n",
    "`sns.catplot`**"
   ],
   "id": "3cc8024628982c17"
  },
  {
   "metadata": {},
   "cell_type": "code",
   "outputs": [],
   "execution_count": null,
   "source": "sns.catplot(x=\"Type 1\", y=\"Attack\", data=pokemon_df, aspect=2.5);",
   "id": "4cb24345b9883ec6"
  },
  {
   "metadata": {},
   "cell_type": "markdown",
   "source": [
    "Otteniamo il risultato desiderato impostando 'kind' (in italiano 'tipo')\n",
    "su 'swarm' (in italiano 'sciame'), in modo che i punti non si\n",
    "sovrappongano. Lo svantaggio è che questo stratagemma occuperà più\n",
    "spazio in orizzontale. Immagina di non voler rendere il grafico molto\n",
    "ampio a causa delle limitazioni delle dimensioni del foglio di carta.\n",
    "Possiamo ruotarlo di 90 gradi capovolgendo x e y, e regolando l'aspetto\n",
    "e l'altezza:\n",
    "\n",
    "**Prova: scambia `x` e `y` e aggiungi\n",
    "`height=12, aspect=0.6, kind=\"swarm\"` negli argomenti del seguente\n",
    "`sns.catplot`**"
   ],
   "id": "ada785b2b0f080ea"
  },
  {
   "metadata": {},
   "cell_type": "code",
   "outputs": [],
   "execution_count": null,
   "source": "sns.catplot(x=\"Type 1\", y=\"Attack\", data=pokemon_df);",
   "id": "d35ef5293969dd85"
  },
  {
   "metadata": {},
   "cell_type": "markdown",
   "source": [
    "Ci sono alcune cose che possiamo osservare finora:\n",
    "\n",
    "1.  Per alcuni tipi, come Psico, l'intervallo di attacco è molto ampio\n",
    "    con una lunga coda all'estremità (ad esempio, alcuni pokemon di tipo\n",
    "    Psico hanno un attacco molto elevato, ma la maggior parte di tipo\n",
    "    Psico no).\n",
    "\n",
    "2.  D'altra parte, i pokemon di tipo Veleno hanno un valore di attacco\n",
    "    per lo più compreso tra 40 e 110.\n",
    "\n",
    "3.  In generale i pokemon di tipo Drago hanno più potere di attacco di\n",
    "    quelli Folletto, ma ci sono 2 pokemon di tipo Folletto che hanno un\n",
    "    potere di attacco maggiore.\n",
    "\n",
    "Proviamo ad approfondire: vediamo se è vero che i pokemon leggendari\n",
    "sono i più potenti. Creiamo un codice di colori in base a 'Legendary'\n",
    "per vedere se il fatto che un pokemon sia leggendario abbia qualcosa a\n",
    "che fare con l'attacco del pokemon:\n",
    "\n",
    "**Prova ad aggiungere `hue=\"Legendary\"` come ultimo argomento nel\n",
    "seguente `sns.catplot`**"
   ],
   "id": "93f45f42ff80a05e"
  },
  {
   "metadata": {},
   "cell_type": "code",
   "outputs": [],
   "execution_count": null,
   "source": [
    "plt.figure(figsize=(15, 6))\n",
    "sns.catplot(x=\"Type 1\", y=\"Attack\", data=pokemon_df, size=7)"
   ],
   "id": "e09de2596982ebd8"
  },
  {
   "metadata": {},
   "cell_type": "markdown",
   "source": [
    "Ah ha! Vediamo che molti dei pokemon Psico che hanno valore di attacco\n",
    "più elevato sono in realtà pokemon leggendari. Ciò accade anche per il\n",
    "tipo Terra e il tipo Volante.\n",
    "\n",
    "### Esercizio\n",
    "\n",
    "Ora tocca a te fare qualche analisi. Scegli una proprietà del Pokemon\n",
    "(indicata nel set di dati in inglese): HP, Defense, Sp. Atk, Sp. Def\n",
    "oppure Speed ed effettua analisi simili per scoprire qualche fatto\n",
    "interessante sui pokemon."
   ],
   "id": "343f454442595fb1"
  },
  {
   "metadata": {},
   "cell_type": "markdown",
   "source": [
    "---\n",
    "\n",
    "<div class=\"alert alert-block alert-warning\" style=\"padding: 0px; padding-left: 20px; padding-top: 5px;\"><h2 style=\"color: #301E40\">\n",
    "Costruzione di griglie strutturate multi-grafico\n",
    "</h2><br>\n",
    "</div>\n",
    "\n",
    "A volte, è comodo avere più grafici in uno per un confronto immediato.\n",
    "Un modo per farlo in Seaborn è utilizzare FacetGrid. La classe FacetGrid\n",
    "è utile quando desideri visualizzare la distribuzione di una variabile o\n",
    "la relazione tra più variabili separatamente all'interno di sottoinsiemi\n",
    "del tuo set di dati. Di seguito utilizzeremo FacetGrid per vedere se c'è\n",
    "una differenza nella nostra analisi di cui sopra tra diverse\n",
    "generazioni.\n",
    "\n",
    "Per creare un FacetGrid, possiamo fare quanto segue:"
   ],
   "id": "cf4c5e19d42385e8"
  },
  {
   "metadata": {},
   "cell_type": "code",
   "outputs": [],
   "execution_count": null,
   "source": "g = sns.FacetGrid(pokemon_df, col=\"Generation\")",
   "id": "120e337b0a638fdc"
  },
  {
   "metadata": {},
   "cell_type": "markdown",
   "source": "Osserva che abbiamo 6 aree di grafici che corrispondono al numero di generazioni diverse che abbiamo (possiamo verificare quali sono le diverse generazioni in questo modo):",
   "id": "673cf3b0c8040ccf"
  },
  {
   "metadata": {},
   "cell_type": "code",
   "outputs": [],
   "execution_count": null,
   "source": "pokemon_df[\"Generation\"].unique()",
   "id": "a8decfe0ac55c7a3"
  },
  {
   "metadata": {},
   "cell_type": "markdown",
   "source": [
    "Tuttavia, vorremmo che i grafici fossero allineati verticalmente anziché\n",
    "orizzontalmente.\n",
    "\n",
    "**Prova a sostituire `col` con `row` nel seguente `sns.FacetGrid`**"
   ],
   "id": "35864c499c08aad7"
  },
  {
   "metadata": {},
   "cell_type": "code",
   "outputs": [],
   "execution_count": null,
   "source": "g = sns.FacetGrid(pokemon_df, col=\"Generation\")",
   "id": "68f33d3ebee31f37"
  },
  {
   "metadata": {},
   "cell_type": "markdown",
   "source": [
    "Ok, ora abbiamo il layout, come inseriamo i grafici? Per alcuni grafici,\n",
    "è possibile utilizzare il metodo\n",
    "[FacetGrid.map()](https://seaborn.pydata.org/generated/seaborn.FacetGrid.map.html#seaborn.FacetGrid.map),\n",
    "ad esempio, utilizzando sns.countplot per contare quanti pokemon ci sono\n",
    "nei diversi tipi:"
   ],
   "id": "55cb4ac7b31fe8a6"
  },
  {
   "metadata": {},
   "cell_type": "code",
   "outputs": [],
   "execution_count": null,
   "source": [
    "g = sns.FacetGrid(pokemon_df, row=\"Generation\", aspect=3.5)\n",
    "g.map(sns.countplot, \"Type 1\");"
   ],
   "id": "2af400242785a165"
  },
  {
   "metadata": {},
   "cell_type": "markdown",
   "source": [
    "Ma con sns.catplot, che abbiamo usato prima, tutto questo è ancora più\n",
    "semplice. Dato che catplot è già un FacetGrid , possiamo aggiungervi\n",
    "direttamente l'impostazione `row` o `col`.\n",
    "\n",
    "**Prova ad aggiungere `row=\"Generation\"` come ultimo argomento nel\n",
    "seguente `sns.catplot`**"
   ],
   "id": "4e7cd13a100b26bf"
  },
  {
   "metadata": {},
   "cell_type": "code",
   "outputs": [],
   "execution_count": null,
   "source": [
    "plt.figure(figsize=(15, 6))\n",
    "sns.catplot(x=\"Type 1\", y=\"Attack\", data=pokemon_df, size=7, hue=\"Legendary\", aspect=2.5)"
   ],
   "id": "4abc7790070076a0"
  },
  {
   "metadata": {},
   "cell_type": "markdown",
   "source": [
    "Ora vedi che in ogni generazione i pokemon leggendari hanno un attacco\n",
    "molto più elevato rispetto agli altri della stessa generazione. Per i\n",
    "dettagli sull'utilizzo di FacetGrids, puoi consultare la documentazione\n",
    "ufficiale qui (in inglese):\n",
    "<https://seaborn.pydata.org/tutorial/axis_grids.html>"
   ],
   "id": "24d17c82f05c54fe"
  }
 ],
 "metadata": {
  "kernelspec": {
   "display_name": "Python 3",
   "language": "python",
   "name": "python3"
  },
  "language_info": {
   "codemirror_mode": {
    "name": "ipython",
    "version": 2
   },
   "file_extension": ".py",
   "mimetype": "text/x-python",
   "name": "python",
   "nbconvert_exporter": "python",
   "pygments_lexer": "ipython2",
   "version": "2.7.6"
  }
 },
 "nbformat": 4,
 "nbformat_minor": 5
}
